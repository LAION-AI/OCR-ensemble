{
 "cells": [
  {
   "cell_type": "code",
   "execution_count": 32,
   "id": "00f8a213",
   "metadata": {},
   "outputs": [],
   "source": [
    "import ipywidgets as widgets\n",
    "from IPython.display import display, Image, clear_output\n",
    "import pandas as pd\n",
    "import ast\n",
    "import requests\n",
    "from io import BytesIO\n",
    "import re\n",
    "import cv2\n",
    "import urllib.request\n",
    "import numpy as np\n",
    "from PIL import Image as PILImage\n",
    "\n",
    "\n",
    "parquet_fname = '../data/laion2b-en-1K-experts-large.parquet'\n",
    "df = pd.read_parquet(parquet_fname, engine='pyarrow')"
   ]
  },
  {
   "cell_type": "code",
   "execution_count": 93,
   "id": "e2b55844",
   "metadata": {},
   "outputs": [],
   "source": [
    "def parse_list_string(list_string):\n",
    "    return list_string.strip('[]').replace(\"'\", \"\").split(',')\n",
    "\n",
    "def parse_bounding_boxes(input_string):\n",
    "    input_string = input_string.replace(' ', '')\n",
    "    pattern = r'\\[\\[([\\d.,-]+)\\],\\s?\\[([\\d.,-]+)\\],\\s?\\[([\\d.,-]+)\\],\\s?\\[([\\d.,-]+)\\]\\]'\n",
    "    matches = re.findall(pattern, input_string)\n",
    "    bounding_boxes = []\n",
    "\n",
    "    for match in matches:\n",
    "        box_coords = [list(map(float, coord.split(','))) for coord in match]\n",
    "        bounding_boxes.append(box_coords)\n",
    "\n",
    "    return bounding_boxes\n",
    "\n",
    "\n",
    "def add_bounding_boxes(image_data, bounding_boxes):\n",
    "    h = image_data.shape[0]\n",
    "    w = image_data.shape[1]\n",
    "    \n",
    "    if h == w:\n",
    "        yscale = h/512\n",
    "        xscale = w/512\n",
    "        xoffset = 0\n",
    "        yoffset = 0\n",
    "    if h > w:\n",
    "        wscaled = (512/h) * w\n",
    "        yscale = h/512\n",
    "        xscale = w/wscaled\n",
    "        xoffset = -(512 - wscaled)/2\n",
    "        yoffset = 0\n",
    "    else: \n",
    "        hscaled = (512/w)*h\n",
    "        yscale = h/hscaled\n",
    "        xscale = w/512\n",
    "        xoffset = 0\n",
    "        yoffset = -(512 - hscaled)/2\n",
    "        \n",
    "    \n",
    "    # Iterate through the bounding boxes and draw them on the image\n",
    "    for box in bounding_boxes:\n",
    "        scaled_box = []\n",
    "        for point in box:\n",
    "            x = (point[0]+xoffset)*yscale\n",
    "            y = (point[1]+yoffset)*yscale\n",
    "            scaled_box += [[x, y]]\n",
    "        box = np.array([tuple(map(int, point)) for point in scaled_box], dtype=np.int32)  # Convert coordinates to int and create a NumPy array\n",
    "        cv2.polylines(image_data, [box], True, (0, 255, 0), 2)  # Green color, thickness 2\n",
    "    \n",
    "    # Convert the image back to PIL format\n",
    "    image_pil = PILImage.fromarray(cv2.cvtColor(image_data, cv2.COLOR_BGR2RGB))\n",
    "    return image_pil\n",
    "\n",
    "def read_image_from_url(url):\n",
    "    with urllib.request.urlopen(url) as response:\n",
    "        image_data = response.read()\n",
    "    image_array = np.asarray(bytearray(image_data), dtype=np.uint8)\n",
    "    image = cv2.imdecode(image_array, cv2.IMREAD_COLOR)\n",
    "    return image"
   ]
  },
  {
   "cell_type": "code",
   "execution_count": 94,
   "id": "ec0e1ca2",
   "metadata": {},
   "outputs": [],
   "source": [
    "exp_col = df['OCR_EXPERTS']"
   ]
  },
  {
   "cell_type": "code",
   "execution_count": 95,
   "id": "ae19d220",
   "metadata": {},
   "outputs": [],
   "source": [
    "handwritten_idcs = []\n",
    "for idx, exps in enumerate(exp_col):\n",
    "    #if 'paddleocr' in exps:\n",
    "    if f'trocr-large-handwritten' in exps:\n",
    "        handwritten_idcs += [idx]"
   ]
  },
  {
   "cell_type": "code",
   "execution_count": 96,
   "id": "e95cc504",
   "metadata": {},
   "outputs": [],
   "source": [
    "def on_click(idx):\n",
    "    with output:\n",
    "        clear_output(wait=True)\n",
    "        #img = Image(url=df.iloc[idx]['URL'])\n",
    "        img = read_image_from_url(df.iloc[idx]['URL'])\n",
    "        img = add_bounding_boxes(img, parse_bounding_boxes(df.iloc[idx]['OCR_BBOXES']))\n",
    "        display(img)\n",
    "        ocr_texts = parse_list_string(df.iloc[idx]['OCR_TEXT'])\n",
    "        ocr_experts = parse_list_string(df.iloc[idx]['OCR_EXPERTS'])\n",
    "        for ocr_text, ocr_experts in zip(ocr_texts, ocr_experts):\n",
    "            print(\"{0: <40} {1: <40}\".format(ocr_text, ocr_experts))\n",
    "    \n",
    "def url_to_memory_view(url):\n",
    "    response = requests.get(url)\n",
    "    img_data = BytesIO(response.content)\n",
    "    return memoryview(img_data.getvalue())\n",
    "\n",
    "def on_thumbnail_click(idx, button):\n",
    "    on_click(idx)"
   ]
  },
  {
   "cell_type": "code",
   "execution_count": 97,
   "id": "cc80fcc4",
   "metadata": {},
   "outputs": [
    {
     "data": {
      "application/vnd.jupyter.widget-view+json": {
       "model_id": "cb503184c5e4416a942c08e3e1aff888",
       "version_major": 2,
       "version_minor": 0
      },
      "text/plain": [
       "VBox(children=(GridBox(children=(VBox(children=(HTML(value='<img src=\"https://c8.alamy.com/comp/CP9R1H/theory-…"
      ]
     },
     "metadata": {},
     "output_type": "display_data"
    }
   ],
   "source": [
    "buttons = []\n",
    "for i, idx in enumerate(handwritten_idcs):\n",
    "    button = widgets.Button(description='', icon='check', layout=widgets.Layout(width='100px', height='100px'))\n",
    "    button.style.button_color = 'transparent'\n",
    "    button.on_click(lambda btn, idx=idx: on_thumbnail_click(idx, btn))\n",
    "    buttons.append(button)\n",
    "\n",
    "thumbnails = [widgets.HTML(f'<img src=\"{df.iloc[idx][\"URL\"]}\" width=\"100\" height=\"100\"/>') for idx in handwritten_idcs]\n",
    "\n",
    "thumbnails_grid = widgets.GridBox([widgets.VBox([thumbnail, button]) for thumbnail, button in zip(thumbnails, buttons)], layout=widgets.Layout(grid_template_columns=\"repeat(auto-fill, minmax(100px, 1fr))\", grid_gap=\"10px\"))\n",
    "\n",
    "output = widgets.Output()\n",
    "\n",
    "main_layout = widgets.VBox([thumbnails_grid, output])\n",
    "display(main_layout)"
   ]
  },
  {
   "cell_type": "code",
   "execution_count": null,
   "id": "d1ddbe05",
   "metadata": {},
   "outputs": [],
   "source": []
  },
  {
   "cell_type": "code",
   "execution_count": null,
   "id": "f86774bf",
   "metadata": {},
   "outputs": [],
   "source": []
  }
 ],
 "metadata": {
  "kernelspec": {
   "display_name": "Python 3 (ipykernel)",
   "language": "python",
   "name": "python3"
  },
  "language_info": {
   "codemirror_mode": {
    "name": "ipython",
    "version": 3
   },
   "file_extension": ".py",
   "mimetype": "text/x-python",
   "name": "python",
   "nbconvert_exporter": "python",
   "pygments_lexer": "ipython3",
   "version": "3.10.9"
  }
 },
 "nbformat": 4,
 "nbformat_minor": 5
}
