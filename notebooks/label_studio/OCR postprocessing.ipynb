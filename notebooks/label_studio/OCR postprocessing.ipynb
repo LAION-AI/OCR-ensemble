{
 "cells": [
  {
   "cell_type": "code",
   "execution_count": 1,
   "id": "75d36cbf",
   "metadata": {},
   "outputs": [],
   "source": [
    "%load_ext autoreload\n",
    "%autoreload 2"
   ]
  },
  {
   "cell_type": "code",
   "execution_count": 19,
   "id": "cb768473",
   "metadata": {},
   "outputs": [],
   "source": [
    "import sys\n",
    "from tqdm import tqdm\n",
    "import pickle\n",
    "sys.path.append('../../')\n",
    "from ocr_ensemble.postprocessing import RobertaPostprocessor, RobertaPreLNPostprocessor, XLMRobertaPostprocessor\n",
    "from ocr_ensemble.evaluation import average_levenshtein\n",
    "from weighted_levenshtein import lev\n"
   ]
  },
  {
   "cell_type": "code",
   "execution_count": 6,
   "id": "cd938bf4",
   "metadata": {},
   "outputs": [],
   "source": [
    "with open('../../data/label_studio/labels.pkl', 'rb') as f:\n",
    "    labels = pickle.load(f)"
   ]
  },
  {
   "cell_type": "code",
   "execution_count": 7,
   "id": "e4bb0895",
   "metadata": {},
   "outputs": [],
   "source": [
    "with open('../../data/label_studio/paddle_predictions.pkl', 'rb') as f:\n",
    "    paddle = pickle.load(f)"
   ]
  },
  {
   "cell_type": "code",
   "execution_count": 8,
   "id": "d7c63ffe",
   "metadata": {},
   "outputs": [
    {
     "data": {
      "text/plain": [
       "2290"
      ]
     },
     "execution_count": 8,
     "metadata": {},
     "output_type": "execute_result"
    }
   ],
   "source": [
    "len(paddle)"
   ]
  },
  {
   "cell_type": "code",
   "execution_count": 9,
   "id": "261d6c5d",
   "metadata": {},
   "outputs": [
    {
     "data": {
      "text/plain": [
       "2290"
      ]
     },
     "execution_count": 9,
     "metadata": {},
     "output_type": "execute_result"
    }
   ],
   "source": [
    "len(labels)"
   ]
  },
  {
   "cell_type": "code",
   "execution_count": 37,
   "id": "808ee2bd",
   "metadata": {},
   "outputs": [
    {
     "name": "stdout",
     "output_type": "stream",
     "text": [
      "['text=better', 'BECOMING MORE']\n"
     ]
    }
   ],
   "source": [
    "post = RobertaPostprocessor(size='base')\n",
    "print(post(['texttisbetter', 'BECOMINGMORE']))"
   ]
  },
  {
   "cell_type": "code",
   "execution_count": 38,
   "id": "9a62c2fb",
   "metadata": {},
   "outputs": [
    {
     "name": "stderr",
     "output_type": "stream",
     "text": [
      "100%|████████████████████████████████████████████████████████████████████████████| 2290/2290 [00:02<00:00, 1109.64it/s]\n"
     ]
    }
   ],
   "source": [
    "batch_size = 50\n",
    "batch = []\n",
    "predictions_roberta = []\n",
    "for pred in tqdm(paddle):\n",
    "    batch += [pred]\n",
    "    if len(batch) % batch_size == 0:\n",
    "        curr = post(batch, filter=True)\n",
    "        predictions_roberta += curr\n",
    "        batch = []\n",
    "if len(batch) > 0:\n",
    "    curr = post(batch, filter=True)\n",
    "    predictions_roberta += curr\n",
    "    batch = []"
   ]
  },
  {
   "cell_type": "code",
   "execution_count": 39,
   "id": "e0126141",
   "metadata": {},
   "outputs": [
    {
     "data": {
      "text/plain": [
       "1.9899563318777294"
      ]
     },
     "execution_count": 39,
     "metadata": {},
     "output_type": "execute_result"
    }
   ],
   "source": [
    "average_levenshtein(labels, predictions_roberta)"
   ]
  },
  {
   "cell_type": "code",
   "execution_count": 40,
   "id": "a99f6d6d",
   "metadata": {},
   "outputs": [
    {
     "data": {
      "text/plain": [
       "0.36899563318777295"
      ]
     },
     "execution_count": 40,
     "metadata": {},
     "output_type": "execute_result"
    }
   ],
   "source": [
    "average_levenshtein(predictions_roberta, paddle)"
   ]
  },
  {
   "cell_type": "code",
   "execution_count": 17,
   "id": "8c0655fa",
   "metadata": {},
   "outputs": [],
   "source": [
    "with open('../../data/label_studio/chatgpt35_postprocessing.pkl', 'rb') as f:\n",
    "    chatgpt = pickle.load(f)"
   ]
  },
  {
   "cell_type": "code",
   "execution_count": 18,
   "id": "eeca8b74",
   "metadata": {},
   "outputs": [
    {
     "data": {
      "text/plain": [
       "3.435807860262009"
      ]
     },
     "execution_count": 18,
     "metadata": {},
     "output_type": "execute_result"
    }
   ],
   "source": [
    "average_levenshtein(labels, chatgpt)"
   ]
  },
  {
   "cell_type": "code",
   "execution_count": 21,
   "id": "0f8e82c8",
   "metadata": {},
   "outputs": [],
   "source": [
    "chatgpt_filtered = []\n",
    "for idx, (p, pp) in enumerate(zip(paddle, chatgpt)):\n",
    "    if lev(pp.encode(\"ascii\", \"ignore\").decode(), p.encode(\"ascii\", \"ignore\").decode()) > 5:\n",
    "        chatgpt_filtered.append(p)\n",
    "    else:\n",
    "        chatgpt_filtered.append(pp)"
   ]
  },
  {
   "cell_type": "code",
   "execution_count": 22,
   "id": "85357597",
   "metadata": {},
   "outputs": [
    {
     "data": {
      "text/plain": [
       "1.9685589519650655"
      ]
     },
     "execution_count": 22,
     "metadata": {},
     "output_type": "execute_result"
    }
   ],
   "source": [
    "average_levenshtein(labels, chatgpt_filtered)"
   ]
  },
  {
   "cell_type": "code",
   "execution_count": 23,
   "id": "e0683bb2",
   "metadata": {},
   "outputs": [
    {
     "data": {
      "text/plain": [
       "0.5397379912663756"
      ]
     },
     "execution_count": 23,
     "metadata": {},
     "output_type": "execute_result"
    }
   ],
   "source": [
    "average_levenshtein(paddle, chatgpt_filtered)"
   ]
  },
  {
   "cell_type": "code",
   "execution_count": 24,
   "id": "a7663fec",
   "metadata": {},
   "outputs": [
    {
     "data": {
      "text/plain": [
       "2.3799126637554586"
      ]
     },
     "execution_count": 24,
     "metadata": {},
     "output_type": "execute_result"
    }
   ],
   "source": [
    "average_levenshtein(paddle, chatgpt)"
   ]
  },
  {
   "cell_type": "code",
   "execution_count": null,
   "id": "42efce25",
   "metadata": {},
   "outputs": [],
   "source": []
  }
 ],
 "metadata": {
  "kernelspec": {
   "display_name": "Python 3 (ipykernel)",
   "language": "python",
   "name": "python3"
  },
  "language_info": {
   "codemirror_mode": {
    "name": "ipython",
    "version": 3
   },
   "file_extension": ".py",
   "mimetype": "text/x-python",
   "name": "python",
   "nbconvert_exporter": "python",
   "pygments_lexer": "ipython3",
   "version": "3.10.9"
  }
 },
 "nbformat": 4,
 "nbformat_minor": 5
}
