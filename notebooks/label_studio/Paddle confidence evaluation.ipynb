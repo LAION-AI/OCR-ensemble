{
 "cells": [
  {
   "cell_type": "code",
   "execution_count": 1,
   "id": "1edf050c",
   "metadata": {},
   "outputs": [],
   "source": [
    "%load_ext autoreload\n",
    "%autoreload 2"
   ]
  },
  {
   "cell_type": "code",
   "execution_count": 2,
   "id": "d958b7e1",
   "metadata": {},
   "outputs": [],
   "source": [
    "import pickle\n",
    "from matplotlib import pyplot as plt\n",
    "import numpy as np"
   ]
  },
  {
   "cell_type": "code",
   "execution_count": 3,
   "id": "340c5e01",
   "metadata": {},
   "outputs": [],
   "source": [
    "def load_pickle(fname):\n",
    "    with open(fname, 'rb') as f:\n",
    "        return pickle.load(f)"
   ]
  },
  {
   "cell_type": "code",
   "execution_count": 8,
   "id": "fddd0455",
   "metadata": {},
   "outputs": [],
   "source": [
    "confidences_all = load_pickle('../../data/label_studio/all_paddle_confidences.pkl')\n",
    "offsets = load_pickle('../../data/label_studio/both_offsets.pkl')\n",
    "labels = load_pickle('../../data/label_studio/both_labels.pkl')\n",
    "preds = load_pickle('../../data/label_studio/both_paddle_predictions.pkl')"
   ]
  },
  {
   "cell_type": "code",
   "execution_count": 7,
   "id": "8f9750ff",
   "metadata": {},
   "outputs": [],
   "source": [
    "# because i only stored confidences for all orientations, we first need to retrieve the ones corresponding to the correct orientations"
   ]
  },
  {
   "cell_type": "code",
   "execution_count": 9,
   "id": "54ce8b1a",
   "metadata": {},
   "outputs": [],
   "source": [
    "confidences = []\n",
    "for idx, offset in enumerate(offsets):\n",
    "    confidences += [confidences_all[4*idx + offset]]"
   ]
  },
  {
   "cell_type": "code",
   "execution_count": 11,
   "id": "ff19351b",
   "metadata": {},
   "outputs": [
    {
     "data": {
      "text/plain": [
       "Text(0.5, 1.0, 'paddle confidences')"
      ]
     },
     "execution_count": 11,
     "metadata": {},
     "output_type": "execute_result"
    },
    {
     "data": {
      "image/png": "[encoded data removed]",
      "text/plain": [
       "<Figure size 640x480 with 1 Axes>"
      ]
     },
     "metadata": {},
     "output_type": "display_data"
    }
   ],
   "source": [
    "# investigate distribution of confidences\n",
    "\n",
    "plt.hist(confidences, bins='rice')\n",
    "plt.title('paddle confidences')"
   ]
  },
  {
   "cell_type": "code",
   "execution_count": 38,
   "id": "3d4e7b43",
   "metadata": {},
   "outputs": [
    {
     "name": "stdout",
     "output_type": "stream",
     "text": [
      "[  0  64  67  71  74  78  82  86  90  95 100]\n"
     ]
    }
   ],
   "source": [
    "bins = 1.05**(-np.arange(10))\n",
    "bins = bins[::-1]\n",
    "bins = np.asarray([0]+bins.tolist())\n",
    "print((100*bins).astype(np.int32))"
   ]
  },
  {
   "cell_type": "code",
   "execution_count": 39,
   "id": "6c8b4f38",
   "metadata": {},
   "outputs": [
    {
     "data": {
      "text/plain": [
       "(array([ 252.,   38.,   31.,   38.,   73.,   80.,  125.,  213.,  466.,\n",
       "        2043.]),\n",
       " array([0.        , 0.64460892, 0.67683936, 0.71068133, 0.7462154 ,\n",
       "        0.78352617, 0.82270247, 0.8638376 , 0.90702948, 0.95238095,\n",
       "        1.        ]),\n",
       " <BarContainer object of 10 artists>)"
      ]
     },
     "execution_count": 39,
     "metadata": {},
     "output_type": "execute_result"
    },
    {
     "data": {
      "image/png": "[encoded data removed]",
      "text/plain": [
       "<Figure size 640x480 with 1 Axes>"
      ]
     },
     "metadata": {},
     "output_type": "display_data"
    }
   ],
   "source": [
    "plt.hist(confidences, bins=bins)"
   ]
  },
  {
   "cell_type": "code",
   "execution_count": 50,
   "id": "00af6ce8",
   "metadata": {},
   "outputs": [
    {
     "name": "stdout",
     "output_type": "stream",
     "text": [
      "[0.87968385 0.85956609 0.90861464 0.88978636 0.9766326  0.91068888\n",
      " 0.3628608  0.95030481 0.97488523 0.96576661]\n",
      "[8, 7, 9, 8, 10, 9, 1, 9, 10, 10]\n"
     ]
    }
   ],
   "source": [
    "bin_ids = []\n",
    "\n",
    "bins[0] = -0.1\n",
    "for element in confidences:\n",
    "    for i in range(1, len(bins)):\n",
    "        if bins[i-1] < element <= bins[i]:\n",
    "            bin_ids += [i]\n",
    "            break\n",
    "\n",
    "print(confidences[:10])\n",
    "print(bin_ids[:10])"
   ]
  },
  {
   "cell_type": "code",
   "execution_count": 51,
   "id": "90af2735",
   "metadata": {},
   "outputs": [],
   "source": [
    "bin_ids = np.asarray(bin_ids)\n",
    "confidences = np.asarray(confidences)"
   ]
  },
  {
   "cell_type": "code",
   "execution_count": 52,
   "id": "cebe26e6",
   "metadata": {},
   "outputs": [],
   "source": [
    "# compute levenshtein distance per bin"
   ]
  },
  {
   "cell_type": "code",
   "execution_count": 53,
   "id": "8a953009",
   "metadata": {},
   "outputs": [],
   "source": [
    "import sys\n",
    "sys.path.append('../../')\n",
    "from ocr_ensemble.evaluation import levenshtein as lev"
   ]
  },
  {
   "cell_type": "code",
   "execution_count": 54,
   "id": "dac6d498",
   "metadata": {},
   "outputs": [],
   "source": [
    "levs = np.asarray([lev(gt, pred) for gt, pred in zip(labels, preds)])"
   ]
  },
  {
   "cell_type": "code",
   "execution_count": 63,
   "id": "16460999",
   "metadata": {},
   "outputs": [],
   "source": [
    "means = []\n",
    "stds = []\n",
    "cnts = []\n",
    "for bin_id in range(1, len(bins)):\n",
    "    means += [np.mean(levs[bin_ids == bin_id])]\n",
    "    stds += [np.std(levs[bin_ids == bin_id])]\n",
    "    cnts += [np.sum(bin_ids == bin_id)]\n",
    "\n",
    "means = np.asarray(means)\n",
    "stds = np.asarray(stds)\n",
    "cnts = np.asarray(cnts)"
   ]
  },
  {
   "cell_type": "code",
   "execution_count": 101,
   "id": "7b4bc693",
   "metadata": {},
   "outputs": [],
   "source": [
    "def gaussian_confidence_plot(means, stds, cnts, bins):\n",
    "    upper = means + 1.96*stds/np.sqrt(cnts)\n",
    "    lower = means - 1.96*stds/np.sqrt(cnts)\n",
    "    x = np.arange(len(means))\n",
    "    plt.plot(x, means)\n",
    "    plt.fill_between(x, lower, upper, color='blue', alpha=0.5)\n",
    "    plt.plot(x, [1]*len(x), 'r-.')\n",
    "    plt.xticks(np.arange(0, len(bins)-1),  ['%.2f'%b for b in bins[1:]])\n",
    "    plt.xlim(0, len(bins)-2)\n",
    "    plt.ylim(0, upper.max())"
   ]
  },
  {
   "cell_type": "code",
   "execution_count": 103,
   "id": "cd0324d3",
   "metadata": {},
   "outputs": [
    {
     "data": {
      "text/plain": [
       "Text(0.5, 0, 'upper end of bin')"
      ]
     },
     "execution_count": 103,
     "metadata": {},
     "output_type": "execute_result"
    },
    {
     "data": {
      "image/png": "[encoded data removed]",
      "text/plain": [
       "<Figure size 640x480 with 1 Axes>"
      ]
     },
     "metadata": {},
     "output_type": "display_data"
    }
   ],
   "source": [
    "gaussian_confidence_plot(means, stds, cnts, bins)\n",
    "plt.ylabel('edit distance (lower better)')\n",
    "plt.xlabel('upper end of bin')"
   ]
  },
  {
   "cell_type": "code",
   "execution_count": 104,
   "id": "27601dc7",
   "metadata": {},
   "outputs": [
    {
     "data": {
      "text/plain": [
       "0.7401012206013694"
      ]
     },
     "execution_count": 104,
     "metadata": {},
     "output_type": "execute_result"
    }
   ],
   "source": [
    "(confidences > 0.91).sum() / len(confidences)"
   ]
  },
  {
   "cell_type": "code",
   "execution_count": 108,
   "id": "5f41cebc",
   "metadata": {},
   "outputs": [],
   "source": [
    "preds = np.asarray(preds)\n",
    "labels = np.asarray(labels)\n",
    "\n",
    "preds_keep = preds[confidences > 0.91]\n",
    "labels_keep = labels[confidences > 0.91]"
   ]
  },
  {
   "cell_type": "code",
   "execution_count": 113,
   "id": "efe51ae5",
   "metadata": {},
   "outputs": [
    {
     "name": "stdout",
     "output_type": "stream",
     "text": [
      "DANUBE\n",
      "DANUBE\n",
      "Ask a question or\n",
      "Ask a question or\n",
      "KILLESTER\n",
      "KILLESTER\n",
      "TO\n",
      "TO\n",
      "B b O o\n",
      "BbOo\n",
      "VOTING\n",
      "VOTING\n",
      "ACROSS\n",
      "ACROSS\n",
      "Huerco S.\n",
      "Huerco S.\n",
      "www.mannaplay.com\n",
      "www.mannaplay.com\n",
      "NEWS\n",
      "NEWS\n",
      "BASS\n",
      "BASS\n",
      "9\n",
      "9\n",
      "21\n",
      "21\n",
      "max\n",
      "nax\n",
      "Original Mix\n",
      "Original Mix\n",
      "14\n",
      "14\n",
      "RATE\n",
      "RATE\n",
      "OW!\n",
      "W!\n",
      "Analytics\n",
      "Analytics\n",
      "6.8 - 8.5\n",
      "6.8 - 8.5\n"
     ]
    }
   ],
   "source": [
    "for _ in range(20):\n",
    "    idx = np.random.randint(len(preds_keep))\n",
    "    print('%s\\n%s'%(labels_keep[idx], preds_keep[idx]))"
   ]
  },
  {
   "cell_type": "code",
   "execution_count": null,
   "id": "d74c411a",
   "metadata": {},
   "outputs": [],
   "source": []
  }
 ],
 "metadata": {
  "kernelspec": {
   "display_name": "Python 3 (ipykernel)",
   "language": "python",
   "name": "python3"
  },
  "language_info": {
   "codemirror_mode": {
    "name": "ipython",
    "version": 3
   },
   "file_extension": ".py",
   "mimetype": "text/x-python",
   "name": "python",
   "nbconvert_exporter": "python",
   "pygments_lexer": "ipython3",
   "version": "3.9.16"
  }
 },
 "nbformat": 4,
 "nbformat_minor": 5
}
