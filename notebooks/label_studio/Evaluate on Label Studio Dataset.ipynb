{
 "cells": [
  {
   "cell_type": "code",
   "execution_count": 2,
   "id": "04b72a27",
   "metadata": {},
   "outputs": [
    {
     "name": "stdout",
     "output_type": "stream",
     "text": [
      "The autoreload extension is already loaded. To reload it, use:\n",
      "  %reload_ext autoreload\n"
     ]
    }
   ],
   "source": [
    "%load_ext autoreload\n",
    "%autoreload 2"
   ]
  },
  {
   "cell_type": "code",
   "execution_count": 11,
   "id": "934b637a",
   "metadata": {},
   "outputs": [
    {
     "name": "stdout",
     "output_type": "stream",
     "text": [
      "Collecting gdown\n",
      "  Using cached gdown-4.7.1-py3-none-any.whl (15 kB)\n",
      "Requirement already satisfied: six in c:\\users\\chris wendler\\appdata\\local\\pypoetry\\cache\\virtualenvs\\ocr-ensemble-euja140x-py3.10\\lib\\site-packages (from gdown) (1.16.0)\n",
      "Requirement already satisfied: filelock in c:\\users\\chris wendler\\appdata\\local\\pypoetry\\cache\\virtualenvs\\ocr-ensemble-euja140x-py3.10\\lib\\site-packages (from gdown) (3.11.0)\n",
      "Requirement already satisfied: beautifulsoup4 in c:\\users\\chris wendler\\appdata\\local\\pypoetry\\cache\\virtualenvs\\ocr-ensemble-euja140x-py3.10\\lib\\site-packages (from gdown) (4.12.2)\n",
      "Requirement already satisfied: tqdm in c:\\users\\chris wendler\\appdata\\local\\pypoetry\\cache\\virtualenvs\\ocr-ensemble-euja140x-py3.10\\lib\\site-packages (from gdown) (4.65.0)\n",
      "Requirement already satisfied: requests[socks] in c:\\users\\chris wendler\\appdata\\local\\pypoetry\\cache\\virtualenvs\\ocr-ensemble-euja140x-py3.10\\lib\\site-packages (from gdown) (2.28.0)\n",
      "Requirement already satisfied: soupsieve>1.2 in c:\\users\\chris wendler\\appdata\\local\\pypoetry\\cache\\virtualenvs\\ocr-ensemble-euja140x-py3.10\\lib\\site-packages (from beautifulsoup4->gdown) (2.4)\n",
      "Requirement already satisfied: urllib3<1.27,>=1.21.1 in c:\\users\\chris wendler\\appdata\\local\\pypoetry\\cache\\virtualenvs\\ocr-ensemble-euja140x-py3.10\\lib\\site-packages (from requests[socks]->gdown) (1.26.15)\n",
      "Requirement already satisfied: certifi>=2017.4.17 in c:\\users\\chris wendler\\appdata\\local\\pypoetry\\cache\\virtualenvs\\ocr-ensemble-euja140x-py3.10\\lib\\site-packages (from requests[socks]->gdown) (2022.12.7)\n",
      "Requirement already satisfied: charset-normalizer~=2.0.0 in c:\\users\\chris wendler\\appdata\\local\\pypoetry\\cache\\virtualenvs\\ocr-ensemble-euja140x-py3.10\\lib\\site-packages (from requests[socks]->gdown) (2.0.12)\n",
      "Requirement already satisfied: idna<4,>=2.5 in c:\\users\\chris wendler\\appdata\\local\\pypoetry\\cache\\virtualenvs\\ocr-ensemble-euja140x-py3.10\\lib\\site-packages (from requests[socks]->gdown) (3.4)\n",
      "Requirement already satisfied: PySocks!=1.5.7,>=1.5.6 in c:\\users\\chris wendler\\appdata\\local\\pypoetry\\cache\\virtualenvs\\ocr-ensemble-euja140x-py3.10\\lib\\site-packages (from requests[socks]->gdown) (1.7.1)\n",
      "Requirement already satisfied: colorama in c:\\users\\chris wendler\\appdata\\local\\pypoetry\\cache\\virtualenvs\\ocr-ensemble-euja140x-py3.10\\lib\\site-packages (from tqdm->gdown) (0.4.6)\n",
      "Installing collected packages: gdown\n",
      "Successfully installed gdown-4.7.1\n"
     ]
    },
    {
     "name": "stderr",
     "output_type": "stream",
     "text": [
      "WARNING: Ignoring invalid distribution -rotobuf (c:\\users\\chris wendler\\appdata\\local\\pypoetry\\cache\\virtualenvs\\ocr-ensemble-euja140x-py3.10\\lib\\site-packages)\n",
      "WARNING: Ignoring invalid distribution -pencv-python-headless (c:\\users\\chris wendler\\appdata\\local\\pypoetry\\cache\\virtualenvs\\ocr-ensemble-euja140x-py3.10\\lib\\site-packages)\n",
      "WARNING: Ignoring invalid distribution -orch (c:\\users\\chris wendler\\appdata\\local\\pypoetry\\cache\\virtualenvs\\ocr-ensemble-euja140x-py3.10\\lib\\site-packages)\n",
      "WARNING: Ignoring invalid distribution -illow (c:\\users\\chris wendler\\appdata\\local\\pypoetry\\cache\\virtualenvs\\ocr-ensemble-euja140x-py3.10\\lib\\site-packages)\n",
      "WARNING: Ignoring invalid distribution -rotobuf (c:\\users\\chris wendler\\appdata\\local\\pypoetry\\cache\\virtualenvs\\ocr-ensemble-euja140x-py3.10\\lib\\site-packages)\n",
      "WARNING: Ignoring invalid distribution -pencv-python-headless (c:\\users\\chris wendler\\appdata\\local\\pypoetry\\cache\\virtualenvs\\ocr-ensemble-euja140x-py3.10\\lib\\site-packages)\n",
      "WARNING: Ignoring invalid distribution -orch (c:\\users\\chris wendler\\appdata\\local\\pypoetry\\cache\\virtualenvs\\ocr-ensemble-euja140x-py3.10\\lib\\site-packages)\n",
      "WARNING: Ignoring invalid distribution -illow (c:\\users\\chris wendler\\appdata\\local\\pypoetry\\cache\\virtualenvs\\ocr-ensemble-euja140x-py3.10\\lib\\site-packages)\n",
      "WARNING: Ignoring invalid distribution -rotobuf (c:\\users\\chris wendler\\appdata\\local\\pypoetry\\cache\\virtualenvs\\ocr-ensemble-euja140x-py3.10\\lib\\site-packages)\n",
      "WARNING: Ignoring invalid distribution -pencv-python-headless (c:\\users\\chris wendler\\appdata\\local\\pypoetry\\cache\\virtualenvs\\ocr-ensemble-euja140x-py3.10\\lib\\site-packages)\n",
      "WARNING: Ignoring invalid distribution -orch (c:\\users\\chris wendler\\appdata\\local\\pypoetry\\cache\\virtualenvs\\ocr-ensemble-euja140x-py3.10\\lib\\site-packages)\n",
      "WARNING: Ignoring invalid distribution -illow (c:\\users\\chris wendler\\appdata\\local\\pypoetry\\cache\\virtualenvs\\ocr-ensemble-euja140x-py3.10\\lib\\site-packages)\n",
      "WARNING: Ignoring invalid distribution -rotobuf (c:\\users\\chris wendler\\appdata\\local\\pypoetry\\cache\\virtualenvs\\ocr-ensemble-euja140x-py3.10\\lib\\site-packages)\n",
      "WARNING: Ignoring invalid distribution -pencv-python-headless (c:\\users\\chris wendler\\appdata\\local\\pypoetry\\cache\\virtualenvs\\ocr-ensemble-euja140x-py3.10\\lib\\site-packages)\n",
      "WARNING: Ignoring invalid distribution -orch (c:\\users\\chris wendler\\appdata\\local\\pypoetry\\cache\\virtualenvs\\ocr-ensemble-euja140x-py3.10\\lib\\site-packages)\n",
      "WARNING: Ignoring invalid distribution -illow (c:\\users\\chris wendler\\appdata\\local\\pypoetry\\cache\\virtualenvs\\ocr-ensemble-euja140x-py3.10\\lib\\site-packages)\n",
      "WARNING: Ignoring invalid distribution -rotobuf (c:\\users\\chris wendler\\appdata\\local\\pypoetry\\cache\\virtualenvs\\ocr-ensemble-euja140x-py3.10\\lib\\site-packages)\n",
      "WARNING: Ignoring invalid distribution -pencv-python-headless (c:\\users\\chris wendler\\appdata\\local\\pypoetry\\cache\\virtualenvs\\ocr-ensemble-euja140x-py3.10\\lib\\site-packages)\n",
      "WARNING: Ignoring invalid distribution -orch (c:\\users\\chris wendler\\appdata\\local\\pypoetry\\cache\\virtualenvs\\ocr-ensemble-euja140x-py3.10\\lib\\site-packages)\n",
      "WARNING: Ignoring invalid distribution -illow (c:\\users\\chris wendler\\appdata\\local\\pypoetry\\cache\\virtualenvs\\ocr-ensemble-euja140x-py3.10\\lib\\site-packages)\n",
      "WARNING: Ignoring invalid distribution -rotobuf (c:\\users\\chris wendler\\appdata\\local\\pypoetry\\cache\\virtualenvs\\ocr-ensemble-euja140x-py3.10\\lib\\site-packages)\n",
      "WARNING: Ignoring invalid distribution -pencv-python-headless (c:\\users\\chris wendler\\appdata\\local\\pypoetry\\cache\\virtualenvs\\ocr-ensemble-euja140x-py3.10\\lib\\site-packages)\n",
      "WARNING: Ignoring invalid distribution -orch (c:\\users\\chris wendler\\appdata\\local\\pypoetry\\cache\\virtualenvs\\ocr-ensemble-euja140x-py3.10\\lib\\site-packages)\n",
      "WARNING: Ignoring invalid distribution -illow (c:\\users\\chris wendler\\appdata\\local\\pypoetry\\cache\\virtualenvs\\ocr-ensemble-euja140x-py3.10\\lib\\site-packages)\n",
      "WARNING: Ignoring invalid distribution -rotobuf (c:\\users\\chris wendler\\appdata\\local\\pypoetry\\cache\\virtualenvs\\ocr-ensemble-euja140x-py3.10\\lib\\site-packages)\n",
      "WARNING: Ignoring invalid distribution -pencv-python-headless (c:\\users\\chris wendler\\appdata\\local\\pypoetry\\cache\\virtualenvs\\ocr-ensemble-euja140x-py3.10\\lib\\site-packages)\n",
      "WARNING: Ignoring invalid distribution -orch (c:\\users\\chris wendler\\appdata\\local\\pypoetry\\cache\\virtualenvs\\ocr-ensemble-euja140x-py3.10\\lib\\site-packages)\n",
      "WARNING: Ignoring invalid distribution -illow (c:\\users\\chris wendler\\appdata\\local\\pypoetry\\cache\\virtualenvs\\ocr-ensemble-euja140x-py3.10\\lib\\site-packages)\n"
     ]
    }
   ],
   "source": [
    "!pip install gdown"
   ]
  },
  {
   "cell_type": "code",
   "execution_count": 15,
   "id": "6448a6bb",
   "metadata": {},
   "outputs": [],
   "source": [
    "import json\n",
    "from matplotlib import pyplot as plt\n",
    "import glob\n",
    "import os\n",
    "import paddleocr\n",
    "from paddleocr import draw_ocr\n",
    "from PIL import Image\n",
    "import numpy as np\n",
    "import math\n",
    "import sys\n",
    "import gdown\n",
    "import tarfile\n",
    "\n",
    "sys.path.append('../../ocr_ensemble/')\n",
    "from label_studio_utils import convert_labelstudio2json"
   ]
  },
  {
   "cell_type": "code",
   "execution_count": 4,
   "id": "6cfa28eb",
   "metadata": {},
   "outputs": [],
   "source": [
    "with open('../../data/label_studio/done.json', 'r') as f:\n",
    "    labelled = json.load(f)"
   ]
  },
  {
   "cell_type": "code",
   "execution_count": 5,
   "id": "b35f362f",
   "metadata": {},
   "outputs": [],
   "source": [
    "json_dataset = convert_labelstudio2json(labelled)"
   ]
  },
  {
   "cell_type": "code",
   "execution_count": 6,
   "id": "2061568d",
   "metadata": {},
   "outputs": [
    {
     "data": {
      "text/plain": [
       "405"
      ]
     },
     "execution_count": 6,
     "metadata": {},
     "output_type": "execute_result"
    }
   ],
   "source": [
    "len(json_dataset)"
   ]
  },
  {
   "cell_type": "code",
   "execution_count": 7,
   "id": "77e66fae",
   "metadata": {},
   "outputs": [
    {
     "data": {
      "text/plain": [
       "{'ocr_annotation': {'bounding_boxes': [[[160.62745098039215,\n",
       "     725.3333333333335],\n",
       "    [860.8627450980393, 725.3333333333335],\n",
       "    [860.8627450980393, 800.6274509803923],\n",
       "    [160.62745098039215, 800.6274509803923]],\n",
       "   [[364.7379245557456, 802.6046279679395],\n",
       "    [655.9024843694806, 802.6046279679395],\n",
       "    [655.9024843694806, 835.0806750240869],\n",
       "    [364.7379245557456, 835.0806750240869]],\n",
       "   [[170.93044822256567, 728.0370942812983],\n",
       "    [851.4868624420402, 728.0370942812983],\n",
       "    [851.4868624420402, 794.5100463678516],\n",
       "    [170.93044822256567, 794.5100463678516]],\n",
       "   [[370.34930448222565, 804.0061823802164],\n",
       "    [661.564142194745, 804.0061823802164],\n",
       "    [661.564142194745, 838.8253477588871],\n",
       "    [370.34930448222565, 838.8253477588871]]],\n",
       "  'text': ['GUDNEX ENTERPRISES',\n",
       "   'POSTED ON JIJI',\n",
       "   'GUDNEX ENTERPRISES',\n",
       "   'POSTED ON JIJI'],\n",
       "  'rotation': [0, 0, 0, 0]},\n",
       " 'width': 1024,\n",
       " 'height': 1024,\n",
       " 'label_studio_fname': '/data/upload/1/60569e35-013370001.jpg',\n",
       " 'label_studio_id': 1761}"
      ]
     },
     "execution_count": 7,
     "metadata": {},
     "output_type": "execute_result"
    }
   ],
   "source": [
    "json_dataset[0]"
   ]
  },
  {
   "cell_type": "markdown",
   "id": "41359d17",
   "metadata": {},
   "source": [
    "# check whether we can render the bounding boxes"
   ]
  },
  {
   "cell_type": "code",
   "execution_count": 17,
   "id": "ac4dbae3",
   "metadata": {},
   "outputs": [],
   "source": [
    "ls_folder = '../../data/label_studio/'\n",
    "image_folder = ls_folder + '01337/'"
   ]
  },
  {
   "cell_type": "code",
   "execution_count": 16,
   "id": "a26e5898",
   "metadata": {},
   "outputs": [
    {
     "name": "stderr",
     "output_type": "stream",
     "text": [
      "Downloading...\n",
      "From (uriginal): https://drive.google.com/uc?id=15VMiPXZqIqUGJjM-lUoEPAvANnF9qEhu\n",
      "From (redirected): https://drive.google.com/uc?id=15VMiPXZqIqUGJjM-lUoEPAvANnF9qEhu&confirm=t&uuid=1bf95494-d611-41cb-8c2d-10ff639ba774\n",
      "To: C:\\Users\\Chris Wendler\\Documents\\git\\2023\\OCR-ensemble\\data\\label_studio\\01337.tar\n",
      "100%|██████████████████████████████████████████████████████████████████████████████| 1.16G/1.16G [00:10<00:00, 110MB/s]\n"
     ]
    }
   ],
   "source": [
    "file_id = '15VMiPXZqIqUGJjM-lUoEPAvANnF9qEhu'\n",
    "url = f'https://drive.google.com/uc?id={file_id}'\n",
    "output = ls_folder+'01337.tar'\n",
    "tar_file_path = gdown.download(url, output, quiet=False)"
   ]
  },
  {
   "cell_type": "code",
   "execution_count": 18,
   "id": "03940842",
   "metadata": {},
   "outputs": [],
   "source": [
    "with tarfile.open(tar_file_path, 'r') as tar_ref:\n",
    "    tar_ref.extractall(image_folder)"
   ]
  },
  {
   "cell_type": "code",
   "execution_count": 19,
   "id": "39abdf92",
   "metadata": {},
   "outputs": [],
   "source": [
    "def my_draw_ocr(imname, annotation,font_path='../../fonts/simfang.ttf'):\n",
    "    bboxes = annotation['bounding_boxes']\n",
    "    txts = annotation['text']\n",
    "    scores = annotation['confidences'] if 'confidences' in annotation else [1]*len(txts)\n",
    "    im_show = draw_ocr(Image.open(imname), bboxes, txts, scores, font_path=font_path)\n",
    "    im_show = Image.fromarray(im_show)\n",
    "    im_show.show()"
   ]
  },
  {
   "cell_type": "code",
   "execution_count": 20,
   "id": "aa40e516",
   "metadata": {},
   "outputs": [
    {
     "ename": "KeyboardInterrupt",
     "evalue": "",
     "output_type": "error",
     "traceback": [
      "\u001b[1;31m---------------------------------------------------------------------------\u001b[0m",
      "\u001b[1;31mKeyboardInterrupt\u001b[0m                         Traceback (most recent call last)",
      "Cell \u001b[1;32mIn[20], line 4\u001b[0m\n\u001b[0;32m      2\u001b[0m imname \u001b[38;5;241m=\u001b[39m image_folder \u001b[38;5;241m+\u001b[39m d[\u001b[38;5;124m'\u001b[39m\u001b[38;5;124mlabel_studio_fname\u001b[39m\u001b[38;5;124m'\u001b[39m]\u001b[38;5;241m.\u001b[39msplit(\u001b[38;5;124m'\u001b[39m\u001b[38;5;124m-\u001b[39m\u001b[38;5;124m'\u001b[39m)[\u001b[38;5;241m1\u001b[39m]\n\u001b[0;32m      3\u001b[0m \u001b[38;5;28;01mif\u001b[39;00m \u001b[38;5;28msum\u001b[39m(d[\u001b[38;5;124m'\u001b[39m\u001b[38;5;124mocr_annotation\u001b[39m\u001b[38;5;124m'\u001b[39m][\u001b[38;5;124m'\u001b[39m\u001b[38;5;124mrotation\u001b[39m\u001b[38;5;124m'\u001b[39m]) \u001b[38;5;241m!=\u001b[39m \u001b[38;5;241m0\u001b[39m:\n\u001b[1;32m----> 4\u001b[0m     \u001b[43mmy_draw_ocr\u001b[49m\u001b[43m(\u001b[49m\u001b[43mimname\u001b[49m\u001b[43m,\u001b[49m\u001b[43m \u001b[49m\u001b[43md\u001b[49m\u001b[43m[\u001b[49m\u001b[38;5;124;43m'\u001b[39;49m\u001b[38;5;124;43mocr_annotation\u001b[39;49m\u001b[38;5;124;43m'\u001b[39;49m\u001b[43m]\u001b[49m\u001b[43m)\u001b[49m\n",
      "Cell \u001b[1;32mIn[19], line 7\u001b[0m, in \u001b[0;36mmy_draw_ocr\u001b[1;34m(imname, annotation, font_path)\u001b[0m\n\u001b[0;32m      5\u001b[0m im_show \u001b[38;5;241m=\u001b[39m draw_ocr(Image\u001b[38;5;241m.\u001b[39mopen(imname), bboxes, txts, scores, font_path\u001b[38;5;241m=\u001b[39mfont_path)\n\u001b[0;32m      6\u001b[0m im_show \u001b[38;5;241m=\u001b[39m Image\u001b[38;5;241m.\u001b[39mfromarray(im_show)\n\u001b[1;32m----> 7\u001b[0m \u001b[43mim_show\u001b[49m\u001b[38;5;241;43m.\u001b[39;49m\u001b[43mshow\u001b[49m\u001b[43m(\u001b[49m\u001b[43m)\u001b[49m\n",
      "File \u001b[1;32m~\\AppData\\Local\\pypoetry\\Cache\\virtualenvs\\ocr-ensemble-EUJa140X-py3.10\\lib\\site-packages\\PIL\\Image.py:2407\u001b[0m, in \u001b[0;36mImage.show\u001b[1;34m(self, title)\u001b[0m\n\u001b[0;32m   2387\u001b[0m \u001b[38;5;28;01mdef\u001b[39;00m \u001b[38;5;21mshow\u001b[39m(\u001b[38;5;28mself\u001b[39m, title\u001b[38;5;241m=\u001b[39m\u001b[38;5;28;01mNone\u001b[39;00m):\n\u001b[0;32m   2388\u001b[0m \u001b[38;5;250m    \u001b[39m\u001b[38;5;124;03m\"\"\"\u001b[39;00m\n\u001b[0;32m   2389\u001b[0m \u001b[38;5;124;03m    Displays this image. This method is mainly intended for debugging purposes.\u001b[39;00m\n\u001b[0;32m   2390\u001b[0m \n\u001b[1;32m   (...)\u001b[0m\n\u001b[0;32m   2404\u001b[0m \u001b[38;5;124;03m    :param title: Optional title to use for the image window, where possible.\u001b[39;00m\n\u001b[0;32m   2405\u001b[0m \u001b[38;5;124;03m    \"\"\"\u001b[39;00m\n\u001b[1;32m-> 2407\u001b[0m     \u001b[43m_show\u001b[49m\u001b[43m(\u001b[49m\u001b[38;5;28;43mself\u001b[39;49m\u001b[43m,\u001b[49m\u001b[43m \u001b[49m\u001b[43mtitle\u001b[49m\u001b[38;5;241;43m=\u001b[39;49m\u001b[43mtitle\u001b[49m\u001b[43m)\u001b[49m\n",
      "File \u001b[1;32m~\\AppData\\Local\\pypoetry\\Cache\\virtualenvs\\ocr-ensemble-EUJa140X-py3.10\\lib\\site-packages\\PIL\\Image.py:3411\u001b[0m, in \u001b[0;36m_show\u001b[1;34m(image, **options)\u001b[0m\n\u001b[0;32m   3408\u001b[0m \u001b[38;5;28;01mdef\u001b[39;00m \u001b[38;5;21m_show\u001b[39m(image, \u001b[38;5;241m*\u001b[39m\u001b[38;5;241m*\u001b[39moptions):\n\u001b[0;32m   3409\u001b[0m     \u001b[38;5;28;01mfrom\u001b[39;00m \u001b[38;5;21;01m.\u001b[39;00m \u001b[38;5;28;01mimport\u001b[39;00m ImageShow\n\u001b[1;32m-> 3411\u001b[0m     ImageShow\u001b[38;5;241m.\u001b[39mshow(image, \u001b[38;5;241m*\u001b[39m\u001b[38;5;241m*\u001b[39moptions)\n",
      "File \u001b[1;32m~\\AppData\\Local\\pypoetry\\Cache\\virtualenvs\\ocr-ensemble-EUJa140X-py3.10\\lib\\site-packages\\PIL\\ImageShow.py:62\u001b[0m, in \u001b[0;36mshow\u001b[1;34m(image, title, **options)\u001b[0m\n\u001b[0;32m     53\u001b[0m \u001b[38;5;250m\u001b[39m\u001b[38;5;124mr\u001b[39m\u001b[38;5;124;03m\"\"\"\u001b[39;00m\n\u001b[0;32m     54\u001b[0m \u001b[38;5;124;03mDisplay a given image.\u001b[39;00m\n\u001b[0;32m     55\u001b[0m \n\u001b[1;32m   (...)\u001b[0m\n\u001b[0;32m     59\u001b[0m \u001b[38;5;124;03m:returns: ``True`` if a suitable viewer was found, ``False`` otherwise.\u001b[39;00m\n\u001b[0;32m     60\u001b[0m \u001b[38;5;124;03m\"\"\"\u001b[39;00m\n\u001b[0;32m     61\u001b[0m \u001b[38;5;28;01mfor\u001b[39;00m viewer \u001b[38;5;129;01min\u001b[39;00m _viewers:\n\u001b[1;32m---> 62\u001b[0m     \u001b[38;5;28;01mif\u001b[39;00m viewer\u001b[38;5;241m.\u001b[39mshow(image, title\u001b[38;5;241m=\u001b[39mtitle, \u001b[38;5;241m*\u001b[39m\u001b[38;5;241m*\u001b[39moptions):\n\u001b[0;32m     63\u001b[0m         \u001b[38;5;28;01mreturn\u001b[39;00m \u001b[38;5;28;01mTrue\u001b[39;00m\n\u001b[0;32m     64\u001b[0m \u001b[38;5;28;01mreturn\u001b[39;00m \u001b[38;5;28;01mFalse\u001b[39;00m\n",
      "File \u001b[1;32m~\\AppData\\Local\\pypoetry\\Cache\\virtualenvs\\ocr-ensemble-EUJa140X-py3.10\\lib\\site-packages\\PIL\\ImageShow.py:86\u001b[0m, in \u001b[0;36mViewer.show\u001b[1;34m(self, image, **options)\u001b[0m\n\u001b[0;32m     83\u001b[0m     \u001b[38;5;28;01mif\u001b[39;00m image\u001b[38;5;241m.\u001b[39mmode \u001b[38;5;241m!=\u001b[39m base:\n\u001b[0;32m     84\u001b[0m         image \u001b[38;5;241m=\u001b[39m image\u001b[38;5;241m.\u001b[39mconvert(base)\n\u001b[1;32m---> 86\u001b[0m \u001b[38;5;28;01mreturn\u001b[39;00m \u001b[38;5;28mself\u001b[39m\u001b[38;5;241m.\u001b[39mshow_image(image, \u001b[38;5;241m*\u001b[39m\u001b[38;5;241m*\u001b[39moptions)\n",
      "File \u001b[1;32m~\\AppData\\Local\\pypoetry\\Cache\\virtualenvs\\ocr-ensemble-EUJa140X-py3.10\\lib\\site-packages\\PIL\\ImageShow.py:112\u001b[0m, in \u001b[0;36mViewer.show_image\u001b[1;34m(self, image, **options)\u001b[0m\n\u001b[0;32m    110\u001b[0m \u001b[38;5;28;01mdef\u001b[39;00m \u001b[38;5;21mshow_image\u001b[39m(\u001b[38;5;28mself\u001b[39m, image, \u001b[38;5;241m*\u001b[39m\u001b[38;5;241m*\u001b[39moptions):\n\u001b[0;32m    111\u001b[0m \u001b[38;5;250m    \u001b[39m\u001b[38;5;124;03m\"\"\"Display the given image.\"\"\"\u001b[39;00m\n\u001b[1;32m--> 112\u001b[0m     \u001b[38;5;28;01mreturn\u001b[39;00m \u001b[38;5;28mself\u001b[39m\u001b[38;5;241m.\u001b[39mshow_file(\u001b[38;5;28mself\u001b[39m\u001b[38;5;241m.\u001b[39msave_image(image), \u001b[38;5;241m*\u001b[39m\u001b[38;5;241m*\u001b[39moptions)\n",
      "File \u001b[1;32m~\\AppData\\Local\\pypoetry\\Cache\\virtualenvs\\ocr-ensemble-EUJa140X-py3.10\\lib\\site-packages\\PIL\\ImageShow.py:128\u001b[0m, in \u001b[0;36mViewer.show_file\u001b[1;34m(self, path, **options)\u001b[0m\n\u001b[0;32m    126\u001b[0m     \u001b[38;5;28;01melse\u001b[39;00m:\n\u001b[0;32m    127\u001b[0m         \u001b[38;5;28;01mraise\u001b[39;00m \u001b[38;5;167;01mTypeError\u001b[39;00m(\u001b[38;5;124m\"\u001b[39m\u001b[38;5;124mMissing required argument: \u001b[39m\u001b[38;5;124m'\u001b[39m\u001b[38;5;124mpath\u001b[39m\u001b[38;5;124m'\u001b[39m\u001b[38;5;124m\"\u001b[39m)\n\u001b[1;32m--> 128\u001b[0m \u001b[43mos\u001b[49m\u001b[38;5;241;43m.\u001b[39;49m\u001b[43msystem\u001b[49m\u001b[43m(\u001b[49m\u001b[38;5;28;43mself\u001b[39;49m\u001b[38;5;241;43m.\u001b[39;49m\u001b[43mget_command\u001b[49m\u001b[43m(\u001b[49m\u001b[43mpath\u001b[49m\u001b[43m,\u001b[49m\u001b[43m \u001b[49m\u001b[38;5;241;43m*\u001b[39;49m\u001b[38;5;241;43m*\u001b[39;49m\u001b[43moptions\u001b[49m\u001b[43m)\u001b[49m\u001b[43m)\u001b[49m\n\u001b[0;32m    129\u001b[0m \u001b[38;5;28;01mreturn\u001b[39;00m \u001b[38;5;241m1\u001b[39m\n",
      "\u001b[1;31mKeyboardInterrupt\u001b[0m: "
     ]
    }
   ],
   "source": [
    "for d in json_dataset:\n",
    "    imname = image_folder + d['label_studio_fname'].split('-')[1]\n",
    "    if sum(d['ocr_annotation']['rotation']) != 0:\n",
    "        my_draw_ocr(imname, d['ocr_annotation'])"
   ]
  },
  {
   "cell_type": "code",
   "execution_count": null,
   "id": "7a489eea",
   "metadata": {},
   "outputs": [],
   "source": []
  }
 ],
 "metadata": {
  "kernelspec": {
   "display_name": "Python 3 (ipykernel)",
   "language": "python",
   "name": "python3"
  },
  "language_info": {
   "codemirror_mode": {
    "name": "ipython",
    "version": 3
   },
   "file_extension": ".py",
   "mimetype": "text/x-python",
   "name": "python",
   "nbconvert_exporter": "python",
   "pygments_lexer": "ipython3",
   "version": "3.10.9"
  }
 },
 "nbformat": 4,
 "nbformat_minor": 5
}
