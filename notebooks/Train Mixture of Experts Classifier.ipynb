{
 "cells": [
  {
   "cell_type": "code",
   "execution_count": 6,
   "id": "42f66833",
   "metadata": {},
   "outputs": [],
   "source": [
    "from torchvision.datasets import ImageFolder\n",
    "from collections import Counter\n",
    "import torch\n",
    "import numpy as np\n",
    "from torch.utils.data import Subset, DataLoader\n",
    "from torchvision import transforms\n",
    "from ocr_ensemble.classifiers import ClipEmbedding\n",
    "from tqdm import tqdm\n",
    "from sklearn.linear_model import LogisticRegressionCV, LogisticRegression\n",
    "import pickle\n",
    "from collections import defaultdict"
   ]
  },
  {
   "cell_type": "markdown",
   "id": "e1ee1340",
   "metadata": {},
   "source": [
    "# download and extract the data from\n",
    "https://drive.google.com/file/d/1BWMCgBJLEu1CDG4vrEwYkr1glQ2sG4x_/view?usp=sharing"
   ]
  },
  {
   "cell_type": "code",
   "execution_count": 2,
   "id": "d7ffc113",
   "metadata": {},
   "outputs": [],
   "source": [
    "class PILToNumpy:\n",
    "    def __call__(self, pic):\n",
    "        return np.array(pic)"
   ]
  },
  {
   "cell_type": "code",
   "execution_count": 3,
   "id": "b3ceb376",
   "metadata": {},
   "outputs": [],
   "source": [
    "emb = ClipEmbedding()"
   ]
  },
  {
   "cell_type": "code",
   "execution_count": 4,
   "id": "2ff9532c",
   "metadata": {},
   "outputs": [],
   "source": [
    "data = ImageFolder('../data/moe_classifier/', transform=transforms.Compose([PILToNumpy(),\n",
    "                                                                            emb.get_transform()]))"
   ]
  },
  {
   "cell_type": "code",
   "execution_count": 5,
   "id": "6fae9248",
   "metadata": {},
   "outputs": [
    {
     "name": "stdout",
     "output_type": "stream",
     "text": [
      "handwritten: 2915\n",
      "printed: 17567\n",
      "scene: 11435\n",
      "stage1: 86379\n"
     ]
    }
   ],
   "source": [
    "# Count the class occurrences\n",
    "class_counts = Counter(data.targets)\n",
    "\n",
    "# Print class membership counts\n",
    "for class_idx, count in class_counts.items():\n",
    "    class_name = data.classes[class_idx]\n",
    "    print(f\"{class_name}: {count}\")"
   ]
  },
  {
   "cell_type": "code",
   "execution_count": 20,
   "id": "4cea973d",
   "metadata": {},
   "outputs": [
    {
     "name": "stdout",
     "output_type": "stream",
     "text": [
      "{0: 1000, 1: 1000, 2: 1000, 3: 1000}\n"
     ]
    }
   ],
   "source": [
    "n = len(data)\n",
    "indices = []\n",
    "\n",
    "counters = {key: 0 for key in class_counts.keys()}\n",
    "for key in counters.keys():\n",
    "    subset = np.where(np.array(data.targets) == key)[0]\n",
    "    while counters[key] < 1000:\n",
    "        idx = np.random.randint(len(subset))\n",
    "        t = data.targets[subset[idx]]\n",
    "        counters[key] += 1\n",
    "        indices += [subset[idx]]\n",
    "print(counters)\n",
    "            "
   ]
  },
  {
   "cell_type": "code",
   "execution_count": 21,
   "id": "250b71d6",
   "metadata": {},
   "outputs": [],
   "source": [
    "subset = Subset(data, indices)"
   ]
  },
  {
   "cell_type": "code",
   "execution_count": 22,
   "id": "be3fdcf8",
   "metadata": {},
   "outputs": [],
   "source": [
    "loader = DataLoader(subset, batch_size=100)"
   ]
  },
  {
   "cell_type": "code",
   "execution_count": 23,
   "id": "cfe89f1e",
   "metadata": {},
   "outputs": [
    {
     "name": "stderr",
     "output_type": "stream",
     "text": [
      "100%|██████████████████████████████████████████████████████████████████████████████████| 40/40 [01:37<00:00,  2.44s/it]\n"
     ]
    }
   ],
   "source": [
    "device = 'cuda' if torch.cuda.is_available() else 'cpu'\n",
    "features = []\n",
    "targets = []\n",
    "for batch in tqdm(loader):\n",
    "    feats = emb.encode_image_batch(batch[0].to(device)).detach().cpu().numpy()\n",
    "    features += [feats]\n",
    "    targets += [batch[1].detach().cpu().numpy()]\n",
    "features = np.concatenate(features, axis=0)\n",
    "targets = np.concatenate(targets, axis=0)"
   ]
  },
  {
   "cell_type": "code",
   "execution_count": 26,
   "id": "231047e8",
   "metadata": {},
   "outputs": [
    {
     "data": {
      "text/html": [
       "<style>#sk-container-id-2 {color: black;background-color: white;}#sk-container-id-2 pre{padding: 0;}#sk-container-id-2 div.sk-toggleable {background-color: white;}#sk-container-id-2 label.sk-toggleable__label {cursor: pointer;display: block;width: 100%;margin-bottom: 0;padding: 0.3em;box-sizing: border-box;text-align: center;}#sk-container-id-2 label.sk-toggleable__label-arrow:before {content: \"▸\";float: left;margin-right: 0.25em;color: #696969;}#sk-container-id-2 label.sk-toggleable__label-arrow:hover:before {color: black;}#sk-container-id-2 div.sk-estimator:hover label.sk-toggleable__label-arrow:before {color: black;}#sk-container-id-2 div.sk-toggleable__content {max-height: 0;max-width: 0;overflow: hidden;text-align: left;background-color: #f0f8ff;}#sk-container-id-2 div.sk-toggleable__content pre {margin: 0.2em;color: black;border-radius: 0.25em;background-color: #f0f8ff;}#sk-container-id-2 input.sk-toggleable__control:checked~div.sk-toggleable__content {max-height: 200px;max-width: 100%;overflow: auto;}#sk-container-id-2 input.sk-toggleable__control:checked~label.sk-toggleable__label-arrow:before {content: \"▾\";}#sk-container-id-2 div.sk-estimator input.sk-toggleable__control:checked~label.sk-toggleable__label {background-color: #d4ebff;}#sk-container-id-2 div.sk-label input.sk-toggleable__control:checked~label.sk-toggleable__label {background-color: #d4ebff;}#sk-container-id-2 input.sk-hidden--visually {border: 0;clip: rect(1px 1px 1px 1px);clip: rect(1px, 1px, 1px, 1px);height: 1px;margin: -1px;overflow: hidden;padding: 0;position: absolute;width: 1px;}#sk-container-id-2 div.sk-estimator {font-family: monospace;background-color: #f0f8ff;border: 1px dotted black;border-radius: 0.25em;box-sizing: border-box;margin-bottom: 0.5em;}#sk-container-id-2 div.sk-estimator:hover {background-color: #d4ebff;}#sk-container-id-2 div.sk-parallel-item::after {content: \"\";width: 100%;border-bottom: 1px solid gray;flex-grow: 1;}#sk-container-id-2 div.sk-label:hover label.sk-toggleable__label {background-color: #d4ebff;}#sk-container-id-2 div.sk-serial::before {content: \"\";position: absolute;border-left: 1px solid gray;box-sizing: border-box;top: 0;bottom: 0;left: 50%;z-index: 0;}#sk-container-id-2 div.sk-serial {display: flex;flex-direction: column;align-items: center;background-color: white;padding-right: 0.2em;padding-left: 0.2em;position: relative;}#sk-container-id-2 div.sk-item {position: relative;z-index: 1;}#sk-container-id-2 div.sk-parallel {display: flex;align-items: stretch;justify-content: center;background-color: white;position: relative;}#sk-container-id-2 div.sk-item::before, #sk-container-id-2 div.sk-parallel-item::before {content: \"\";position: absolute;border-left: 1px solid gray;box-sizing: border-box;top: 0;bottom: 0;left: 50%;z-index: -1;}#sk-container-id-2 div.sk-parallel-item {display: flex;flex-direction: column;z-index: 1;position: relative;background-color: white;}#sk-container-id-2 div.sk-parallel-item:first-child::after {align-self: flex-end;width: 50%;}#sk-container-id-2 div.sk-parallel-item:last-child::after {align-self: flex-start;width: 50%;}#sk-container-id-2 div.sk-parallel-item:only-child::after {width: 0;}#sk-container-id-2 div.sk-dashed-wrapped {border: 1px dashed gray;margin: 0 0.4em 0.5em 0.4em;box-sizing: border-box;padding-bottom: 0.4em;background-color: white;}#sk-container-id-2 div.sk-label label {font-family: monospace;font-weight: bold;display: inline-block;line-height: 1.2em;}#sk-container-id-2 div.sk-label-container {text-align: center;}#sk-container-id-2 div.sk-container {/* jupyter's `normalize.less` sets `[hidden] { display: none; }` but bootstrap.min.css set `[hidden] { display: none !important; }` so we also need the `!important` here to be able to override the default hidden behavior on the sphinx rendered scikit-learn.org. See: https://github.com/scikit-learn/scikit-learn/issues/21755 */display: inline-block !important;position: relative;}#sk-container-id-2 div.sk-text-repr-fallback {display: none;}</style><div id=\"sk-container-id-2\" class=\"sk-top-container\"><div class=\"sk-text-repr-fallback\"><pre>LogisticRegressionCV(Cs=[0.1, 1, 5, 10, 100, 1000])</pre><b>In a Jupyter environment, please rerun this cell to show the HTML representation or trust the notebook. <br />On GitHub, the HTML representation is unable to render, please try loading this page with nbviewer.org.</b></div><div class=\"sk-container\" hidden><div class=\"sk-item\"><div class=\"sk-estimator sk-toggleable\"><input class=\"sk-toggleable__control sk-hidden--visually\" id=\"sk-estimator-id-2\" type=\"checkbox\" checked><label for=\"sk-estimator-id-2\" class=\"sk-toggleable__label sk-toggleable__label-arrow\">LogisticRegressionCV</label><div class=\"sk-toggleable__content\"><pre>LogisticRegressionCV(Cs=[0.1, 1, 5, 10, 100, 1000])</pre></div></div></div></div></div>"
      ],
      "text/plain": [
       "LogisticRegressionCV(Cs=[0.1, 1, 5, 10, 100, 1000])"
      ]
     },
     "execution_count": 26,
     "metadata": {},
     "output_type": "execute_result"
    }
   ],
   "source": [
    "cv = LogisticRegressionCV(Cs=[0.1, 1, 5, 10, 100, 1000], refit=True)\n",
    "cv.fit(features, targets)"
   ]
  },
  {
   "cell_type": "code",
   "execution_count": 27,
   "id": "466dc18d",
   "metadata": {},
   "outputs": [
    {
     "data": {
      "text/plain": [
       "{0: array([[0.85875, 0.91875, 0.9375 , 0.94   , 0.945  , 0.94   ],\n",
       "        [0.8675 , 0.91125, 0.925  , 0.9275 , 0.9325 , 0.93   ],\n",
       "        [0.87   , 0.91   , 0.93625, 0.9425 , 0.94   , 0.93875],\n",
       "        [0.86125, 0.9225 , 0.94625, 0.95375, 0.95375, 0.95375],\n",
       "        [0.87875, 0.91125, 0.935  , 0.9425 , 0.95125, 0.95875]]),\n",
       " 1: array([[0.85875, 0.91875, 0.9375 , 0.94   , 0.945  , 0.94   ],\n",
       "        [0.8675 , 0.91125, 0.925  , 0.9275 , 0.9325 , 0.93   ],\n",
       "        [0.87   , 0.91   , 0.93625, 0.9425 , 0.94   , 0.93875],\n",
       "        [0.86125, 0.9225 , 0.94625, 0.95375, 0.95375, 0.95375],\n",
       "        [0.87875, 0.91125, 0.935  , 0.9425 , 0.95125, 0.95875]]),\n",
       " 2: array([[0.85875, 0.91875, 0.9375 , 0.94   , 0.945  , 0.94   ],\n",
       "        [0.8675 , 0.91125, 0.925  , 0.9275 , 0.9325 , 0.93   ],\n",
       "        [0.87   , 0.91   , 0.93625, 0.9425 , 0.94   , 0.93875],\n",
       "        [0.86125, 0.9225 , 0.94625, 0.95375, 0.95375, 0.95375],\n",
       "        [0.87875, 0.91125, 0.935  , 0.9425 , 0.95125, 0.95875]]),\n",
       " 3: array([[0.85875, 0.91875, 0.9375 , 0.94   , 0.945  , 0.94   ],\n",
       "        [0.8675 , 0.91125, 0.925  , 0.9275 , 0.9325 , 0.93   ],\n",
       "        [0.87   , 0.91   , 0.93625, 0.9425 , 0.94   , 0.93875],\n",
       "        [0.86125, 0.9225 , 0.94625, 0.95375, 0.95375, 0.95375],\n",
       "        [0.87875, 0.91125, 0.935  , 0.9425 , 0.95125, 0.95875]])}"
      ]
     },
     "execution_count": 27,
     "metadata": {},
     "output_type": "execute_result"
    }
   ],
   "source": [
    "cv.scores_"
   ]
  },
  {
   "cell_type": "code",
   "execution_count": 31,
   "id": "104f30b8",
   "metadata": {},
   "outputs": [],
   "source": [
    "with open('../models/moe_clf_4.pkl', 'wb') as f:\n",
    "    pickle.dump(cv, f)"
   ]
  },
  {
   "cell_type": "code",
   "execution_count": 32,
   "id": "dc88380c",
   "metadata": {},
   "outputs": [
    {
     "data": {
      "text/plain": [
       "0.98475"
      ]
     },
     "execution_count": 32,
     "metadata": {},
     "output_type": "execute_result"
    }
   ],
   "source": [
    "with open('../models/moe_clf_4.pkl', 'rb') as f:\n",
    "    clf = pickle.load(f)\n",
    "\n",
    "(clf.predict(features) == targets).mean()"
   ]
  },
  {
   "cell_type": "code",
   "execution_count": 34,
   "id": "eb22d390",
   "metadata": {},
   "outputs": [],
   "source": [
    "import json\n",
    "\n",
    "with open('../models/moe_labels_4.json', 'w') as f:\n",
    "    json.dump(data.classes, f)"
   ]
  },
  {
   "cell_type": "code",
   "execution_count": null,
   "id": "83a8497d",
   "metadata": {},
   "outputs": [],
   "source": []
  },
  {
   "cell_type": "code",
   "execution_count": null,
   "id": "6bed9c2d",
   "metadata": {},
   "outputs": [],
   "source": []
  }
 ],
 "metadata": {
  "kernelspec": {
   "display_name": "Python 3 (ipykernel)",
   "language": "python",
   "name": "python3"
  },
  "language_info": {
   "codemirror_mode": {
    "name": "ipython",
    "version": 3
   },
   "file_extension": ".py",
   "mimetype": "text/x-python",
   "name": "python",
   "nbconvert_exporter": "python",
   "pygments_lexer": "ipython3",
   "version": "3.10.9"
  }
 },
 "nbformat": 4,
 "nbformat_minor": 5
}
