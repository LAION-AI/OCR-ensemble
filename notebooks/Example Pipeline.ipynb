{
 "cells": [
  {
   "cell_type": "code",
   "execution_count": 1,
   "id": "ef054968",
   "metadata": {},
   "outputs": [],
   "source": [
    "%load_ext autoreload\n",
    "%autoreload 2"
   ]
  },
  {
   "cell_type": "code",
   "execution_count": 2,
   "id": "b34823fc",
   "metadata": {},
   "outputs": [],
   "source": [
    "import sys\n",
    "sys.path.append(\"..\")\n",
    "from ocr_ensemble.data import load_dataset\n",
    "from matplotlib import pyplot as plt\n",
    "from tqdm import tqdm\n",
    "import numpy as np\n",
    "import pandas as pd\n",
    "from torch.utils.data import DataLoader\n",
    "from functools import partial\n",
    "from collections import defaultdict\n",
    "from copy import deepcopy\n",
    "import torch\n",
    "\n",
    "from paddleocr import draw_ocr\n",
    "from PIL import Image"
   ]
  },
  {
   "cell_type": "code",
   "execution_count": 3,
   "id": "fabbe73a",
   "metadata": {},
   "outputs": [],
   "source": [
    "from ocr_ensemble.classifiers import ClipEmbedding, ClipMulticlass, ClipPresence\n",
    "from ocr_ensemble.proposers import PaddleOCRProposalGenerator\n",
    "from ocr_ensemble.proposers import rotatedCrop\n",
    "from ocr_ensemble.experts import HandwrittenExpert, Stage1Expert, PaddleOCRExpert\n",
    "from ocr_ensemble.data import identity"
   ]
  },
  {
   "cell_type": "code",
   "execution_count": 4,
   "id": "0cf77f13",
   "metadata": {},
   "outputs": [],
   "source": [
    "device = \"cuda\" if torch.cuda.is_available() else \"cpu\"\n",
    "expert_size = 'large'\n",
    "parquet_fname = '../data/laion2b-en-10K.parquet'\n",
    "parquet_fname = '../data/laion2b-en-1K.parquet'\n",
    "parquet_result_fname = f'../data/laion2b-en-1K-experts-{expert_size}.parquet'\n",
    "dataset_path = '../data/laion2b-en-1K-large'\n"
   ]
  },
  {
   "cell_type": "code",
   "execution_count": 5,
   "id": "5536bab2",
   "metadata": {},
   "outputs": [],
   "source": [
    "dataset = load_dataset(dataset_path, parquet_fname, image_size=512, number_sample_per_shard=100)"
   ]
  },
  {
   "cell_type": "markdown",
   "id": "276682ea",
   "metadata": {},
   "source": [
    "# compute subset of images that contain text"
   ]
  },
  {
   "cell_type": "code",
   "execution_count": 6,
   "id": "96a92508",
   "metadata": {},
   "outputs": [],
   "source": [
    "clip_emb = ClipEmbedding()\n",
    "presence = ClipPresence(clip_emb=clip_emb)"
   ]
  },
  {
   "cell_type": "code",
   "execution_count": 7,
   "id": "79d842d9",
   "metadata": {},
   "outputs": [
    {
     "data": {
      "text/plain": [
       "<webdataset.compat.WebDataset at 0x21f5047fbe0>"
      ]
     },
     "execution_count": 7,
     "metadata": {},
     "output_type": "execute_result"
    }
   ],
   "source": [
    "dataset_clip = deepcopy(dataset)\n",
    "dataset_clip.map_tuple(presence.get_transform(), identity, identity)"
   ]
  },
  {
   "cell_type": "code",
   "execution_count": 8,
   "id": "e14e0d72",
   "metadata": {},
   "outputs": [],
   "source": [
    "loader = DataLoader(dataset_clip, batch_size=200, num_workers=4)"
   ]
  },
  {
   "cell_type": "code",
   "execution_count": 9,
   "id": "c0c4d1fc",
   "metadata": {},
   "outputs": [
    {
     "name": "stderr",
     "output_type": "stream",
     "text": [
      "6it [00:17,  2.95s/it]\n"
     ]
    }
   ],
   "source": [
    "features = []\n",
    "labels = []\n",
    "label_dict = {}\n",
    "for imgs, captions, keys in tqdm(loader):\n",
    "    preds = presence.predict(imgs.to(device))\n",
    "    labels += [preds]\n",
    "    for key, pred in zip(keys, preds):\n",
    "        label_dict[key] = pred\n",
    "    \n",
    "labels = np.concatenate(labels, axis=0)"
   ]
  },
  {
   "cell_type": "markdown",
   "id": "76345b60",
   "metadata": {},
   "source": [
    "# compute & label bounding boxes"
   ]
  },
  {
   "cell_type": "code",
   "execution_count": 10,
   "id": "df1f293c",
   "metadata": {},
   "outputs": [
    {
     "data": {
      "text/plain": [
       "<webdataset.compat.WebDataset at 0x21f52a49cf0>"
      ]
     },
     "execution_count": 10,
     "metadata": {},
     "output_type": "execute_result"
    }
   ],
   "source": [
    "from torch.utils.data import default_collate\n",
    "\n",
    "def collate(batch):\n",
    "    imgs = []\n",
    "    bboxes = []\n",
    "    labels = []\n",
    "    for img, bbox, label in batch:\n",
    "        imgs += [img]\n",
    "        bboxes += [bbox]\n",
    "        labels += [label]\n",
    "    return default_collate(imgs), bboxes, labels\n",
    "\n",
    "def get_crops(src, label_dict, proposer):\n",
    "    for img, caption, key in tqdm(src):\n",
    "        if label_dict[key] == 1:\n",
    "            crops, bboxes = proposer(img)\n",
    "            for crop, bbox in zip(crops, bboxes):\n",
    "                yield crop, bbox, key\n",
    "\n",
    "def get_imgs_containing_text(src, label_dict):\n",
    "    for img, caption, key in tqdm(src):\n",
    "        if label_dict[key] == 1:\n",
    "            yield img, caption, key\n",
    "\n",
    "proposer = PaddleOCRProposalGenerator(device='cpu')\n",
    "dataset_crops = deepcopy(dataset)\n",
    "dataset_crops.compose(partial(get_crops, label_dict=label_dict, proposer=proposer))"
   ]
  },
  {
   "cell_type": "code",
   "execution_count": 11,
   "id": "ba5a1ea4",
   "metadata": {},
   "outputs": [
    {
     "name": "stdout",
     "output_type": "stream",
     "text": [
      "microsoft/trocr-large-handwritten\n"
     ]
    },
    {
     "name": "stderr",
     "output_type": "stream",
     "text": [
      "Could not find image processor class in the image processor config or the model config. Loading based on pattern matching with the model's feature extractor configuration.\n",
      "Some weights of VisionEncoderDecoderModel were not initialized from the model checkpoint at microsoft/trocr-large-handwritten and are newly initialized: ['encoder.pooler.dense.bias', 'encoder.pooler.dense.weight']\n",
      "You should probably TRAIN this model on a down-stream task to be able to use it for predictions and inference.\n"
     ]
    },
    {
     "name": "stdout",
     "output_type": "stream",
     "text": [
      "microsoft/trocr-large-stage1\n"
     ]
    },
    {
     "name": "stderr",
     "output_type": "stream",
     "text": [
      "Could not find image processor class in the image processor config or the model config. Loading based on pattern matching with the model's feature extractor configuration.\n",
      "Some weights of VisionEncoderDecoderModel were not initialized from the model checkpoint at microsoft/trocr-large-stage1 and are newly initialized: ['encoder.pooler.dense.bias', 'encoder.pooler.dense.weight']\n",
      "You should probably TRAIN this model on a down-stream task to be able to use it for predictions and inference.\n"
     ]
    },
    {
     "name": "stdout",
     "output_type": "stream",
     "text": [
      "only supported targets ['handwritten', 'printed', 'scene']\n"
     ]
    }
   ],
   "source": [
    "expert_text_dict = {f\"trocr-{expert_size}-handwritten\": \"handwritten text, handwriting, black on white\",\n",
    "                    \"paddleocr\": \"text in a document, website, or presentation\",\n",
    "                    f\"trocr-{expert_size}-stage1\": \"text in a scene\"}\n",
    "expert_dict = {f\"trocr-{expert_size}-handwritten\": HandwrittenExpert(expert_size),\n",
    "               \"paddleocr\": PaddleOCRExpert(device='cpu'),\n",
    "               f\"trocr-{expert_size}-stage1\": Stage1Expert(expert_size)}\n",
    "\n",
    "clf = ClipMulticlass(list(expert_text_dict.values()),\n",
    "                     clip_emb = clip_emb)\n",
    "\n",
    "dataset_crops.map_tuple(clf.get_transform(), identity, identity)\n",
    "loader_crops = DataLoader(dataset_crops, \n",
    "                          batch_size=200,\n",
    "                          collate_fn=collate) # here num_worker breaks things in non-trivial ways"
   ]
  },
  {
   "cell_type": "code",
   "execution_count": 14,
   "id": "5db2afa9",
   "metadata": {},
   "outputs": [
    {
     "name": "stderr",
     "output_type": "stream",
     "text": [
      "0it [00:00, ?it/s]\n",
      "0it [00:00, ?it/s]\n",
      "4it [00:00,  6.93it/s]\n",
      "6it [00:00,  6.28it/s]\n",
      "7it [00:01,  4.36it/s]\n",
      "12it [00:01,  7.10it/s]\n",
      "13it [00:02,  5.34it/s]\n",
      "14it [00:02,  3.96it/s]\n",
      "17it [00:03,  5.12it/s]\n",
      "18it [00:03,  4.83it/s]\n",
      "19it [00:03,  4.13it/s]\n",
      "22it [00:04,  5.31it/s]\n",
      "26it [00:04,  7.29it/s]\n",
      "27it [00:05,  4.66it/s]\n",
      "34it [00:05,  8.42it/s]\n",
      "39it [00:06,  9.36it/s]\n",
      "43it [00:06,  9.55it/s]\n",
      "45it [00:08,  4.32it/s]\n",
      "46it [00:08,  3.82it/s]\n",
      "48it [00:08,  4.16it/s]\n",
      "50it [00:09,  4.05it/s]\n",
      "51it [00:09,  3.73it/s]\n",
      "56it [00:10,  5.69it/s]\n",
      "58it [00:10,  5.52it/s]\n",
      "59it [00:11,  4.78it/s]\n",
      "63it [00:11,  6.45it/s]\n",
      "65it [00:11,  6.18it/s]\n",
      "67it [00:12,  6.14it/s]\n",
      "1it [00:14, 14.34s/it]]\n",
      "70it [00:14,  2.16it/s]\n",
      "71it [00:14,  2.31it/s]\n",
      "75it [00:15,  3.84it/s]\n",
      "77it [00:15,  3.93it/s]\n",
      "78it [00:16,  3.23it/s]\n",
      "79it [00:16,  3.24it/s]\n",
      "80it [00:16,  3.13it/s]\n",
      "81it [00:17,  2.59it/s]\n",
      "88it [00:17,  6.56it/s]\n",
      "90it [00:18,  5.80it/s]\n",
      "92it [00:18,  5.65it/s]\n",
      "96it [00:19,  7.44it/s]\n",
      "97it [00:19,  6.02it/s]\n",
      "98it [00:20,  3.84it/s]\n",
      "99it [00:20,  3.24it/s]\n",
      "101it [00:21,  3.56it/s]\n",
      "102it [00:21,  3.24it/s]\n",
      "108it [00:22,  5.86it/s]\n",
      "110it [00:22,  5.54it/s]\n",
      "111it [00:22,  4.90it/s]\n",
      "114it [00:23,  4.80it/s]\n",
      "116it [00:23,  5.32it/s]\n",
      "119it [00:24,  6.56it/s]\n",
      "120it [00:24,  5.90it/s]\n",
      "121it [00:24,  5.50it/s]\n",
      "122it [00:24,  4.89it/s]\n",
      "124it [00:25,  4.85it/s]\n",
      "125it [00:25,  4.17it/s]\n",
      "126it [00:26,  3.80it/s]\n",
      "127it [00:26,  2.78it/s]\n",
      "128it [00:26,  2.93it/s]\n",
      "129it [00:27,  2.97it/s]\n",
      "130it [00:27,  2.88it/s]\n",
      "132it [00:28,  3.59it/s]\n",
      "134it [00:28,  3.86it/s]\n",
      "2it [00:29, 15.05s/it]s]\n",
      "142it [00:30,  4.38it/s]\n",
      "145it [00:30,  4.86it/s]\n",
      "146it [00:30,  4.44it/s]\n",
      "149it [00:31,  5.34it/s]\n",
      "150it [00:31,  4.61it/s]\n",
      "151it [00:31,  4.28it/s]\n",
      "153it [00:32,  4.13it/s]\n",
      "155it [00:32,  4.23it/s]\n",
      "159it [00:34,  3.78it/s]\n",
      "160it [00:34,  3.72it/s]\n",
      "163it [00:34,  4.90it/s]\n",
      "164it [00:35,  4.02it/s]\n",
      "168it [00:35,  5.82it/s]\n",
      "172it [00:35,  7.55it/s]\n",
      "173it [00:36,  6.50it/s]\n",
      "175it [00:36,  6.37it/s]\n",
      "182it [00:36, 10.26it/s]\n",
      "184it [00:37,  8.48it/s]\n",
      "188it [00:37,  9.73it/s]\n",
      "190it [00:37,  8.57it/s]\n",
      "192it [00:38,  7.85it/s]\n",
      "194it [00:38,  7.69it/s]\n",
      "195it [00:38,  5.90it/s]\n",
      "197it [00:39,  5.89it/s]\n",
      "202it [00:39,  6.89it/s]\n",
      "203it [00:40,  6.23it/s]\n",
      "206it [00:41,  3.83it/s]\n",
      "207it [00:41,  3.85it/s]\n",
      "209it [00:41,  4.42it/s]\n",
      "211it [00:42,  4.64it/s]\n",
      "3it [00:43, 14.45s/it]s]\n",
      "214it [00:43,  3.24it/s]\n",
      "217it [00:44,  4.21it/s]\n",
      "218it [00:44,  3.96it/s]\n",
      "219it [00:45,  3.07it/s]\n",
      "220it [00:45,  3.20it/s]\n",
      "223it [00:45,  4.56it/s]\n",
      "224it [00:45,  4.16it/s]\n",
      "227it [00:46,  5.18it/s]\n",
      "228it [00:46,  4.42it/s]\n",
      "229it [00:47,  4.16it/s]\n",
      "231it [00:47,  4.53it/s]\n",
      "233it [00:47,  5.34it/s]\n",
      "235it [00:47,  5.51it/s]\n",
      "237it [00:48,  6.12it/s]\n",
      "238it [00:48,  5.65it/s]\n",
      "241it [00:48,  6.80it/s]\n",
      "242it [00:49,  4.79it/s]\n",
      "244it [00:49,  4.92it/s]\n",
      "245it [00:49,  4.71it/s]\n",
      "246it [00:50,  4.55it/s]\n",
      "247it [00:50,  4.06it/s]\n",
      "254it [00:50,  8.74it/s]\n",
      "257it [00:51,  8.36it/s]\n",
      "258it [00:51,  6.50it/s]\n",
      "259it [00:52,  3.47it/s]\n",
      "260it [00:53,  3.31it/s]\n",
      "261it [00:53,  3.34it/s]\n",
      "262it [00:53,  2.83it/s]\n",
      "263it [00:55,  1.85it/s]\n",
      "265it [00:55,  2.65it/s]\n",
      "4it [00:57, 14.04s/it]s]\n",
      "271it [00:57,  2.91it/s]\n",
      "273it [00:57,  3.51it/s]\n",
      "274it [00:57,  3.48it/s]\n",
      "275it [00:57,  3.48it/s]\n",
      "276it [00:58,  3.45it/s]\n",
      "280it [00:58,  6.17it/s]\n",
      "284it [00:58,  7.93it/s]\n",
      "290it [00:59, 10.94it/s]\n",
      "292it [00:59,  7.60it/s]\n",
      "296it [01:00,  8.22it/s]\n",
      "303it [01:00, 10.83it/s]\n",
      "305it [01:02,  4.25it/s]\n",
      "306it [01:02,  4.20it/s]\n",
      "312it [01:03,  6.67it/s]\n",
      "317it [01:03,  7.95it/s]\n",
      "320it [01:03,  7.47it/s]\n",
      "321it [01:04,  6.51it/s]\n",
      "322it [01:04,  5.60it/s]\n",
      "323it [01:05,  4.89it/s]\n",
      "329it [01:05,  7.28it/s]\n",
      "330it [01:05,  6.62it/s]\n",
      "334it [01:06,  7.09it/s]\n",
      "335it [01:06,  6.29it/s]\n",
      "336it [01:08,  2.76it/s]\n",
      "5it [01:09, 13.35s/it]s]\n",
      "339it [01:09,  2.53it/s]\n",
      "340it [01:09,  2.66it/s]\n",
      "342it [01:09,  3.33it/s]\n",
      "346it [01:10,  5.24it/s]\n",
      "349it [01:10,  6.11it/s]\n",
      "350it [01:10,  5.55it/s]\n",
      "351it [01:11,  5.04it/s]\n",
      "352it [01:11,  4.68it/s]\n",
      "355it [01:11,  6.22it/s]\n",
      "356it [01:12,  4.63it/s]\n",
      "357it [01:12,  4.16it/s]\n",
      "361it [01:12,  6.50it/s]\n",
      "368it [01:13, 10.73it/s]\n",
      "373it [01:13, 11.73it/s]\n",
      "379it [01:13, 12.53it/s]\n",
      "381it [01:14,  9.17it/s]\n",
      "383it [01:14,  8.95it/s]\n",
      "384it [01:14,  7.74it/s]\n",
      "388it [01:15,  8.02it/s]\n",
      "389it [01:15,  7.08it/s]\n",
      "390it [01:15,  6.25it/s]\n",
      "391it [01:16,  5.37it/s]\n",
      "394it [01:16,  6.48it/s]\n",
      "398it [01:16,  7.94it/s]\n",
      "402it [01:17,  8.69it/s]\n",
      "404it [01:17,  8.08it/s]\n",
      "405it [01:17,  6.95it/s]\n",
      "406it [01:18,  5.97it/s]\n",
      "407it [01:18,  5.50it/s]\n",
      "410it [01:18,  7.05it/s]\n",
      "411it [01:19,  5.50it/s]\n",
      "416it [01:19,  8.45it/s]\n",
      "417it [01:20,  5.72it/s]\n",
      "418it [01:20,  4.59it/s]\n",
      "419it [01:20,  4.17it/s]\n",
      "422it [01:21,  5.72it/s]\n",
      "427it [01:21,  8.24it/s]\n",
      "428it [01:22,  5.02it/s]\n",
      "430it [01:22,  4.12it/s]\n",
      "431it [01:23,  3.99it/s]\n",
      "434it [01:23,  5.42it/s]\n",
      "436it [01:23,  5.49it/s]\n",
      "6it [01:24, 14.16s/it]s]\n",
      "443it [01:24,  5.79it/s]\n",
      "444it [01:25,  5.18it/s]\n",
      "446it [01:25,  5.27it/s]\n",
      "449it [01:25,  6.67it/s]\n",
      "452it [01:26,  7.57it/s]\n",
      "453it [01:27,  3.24it/s]\n",
      "454it [01:27,  3.01it/s]\n",
      "461it [01:28,  5.76it/s]\n",
      "462it [01:28,  5.20it/s]\n",
      "465it [01:29,  5.25it/s]\n",
      "466it [01:29,  4.79it/s]\n",
      "468it [01:31,  2.99it/s]\n",
      "469it [01:31,  3.10it/s]\n",
      "470it [01:31,  2.88it/s]\n",
      "472it [01:32,  3.73it/s]\n",
      "475it [01:32,  5.05it/s]\n",
      "476it [01:32,  4.39it/s]\n",
      "477it [01:33,  4.10it/s]\n",
      "478it [01:33,  4.03it/s]\n",
      "482it [01:33,  6.86it/s]\n",
      "484it [01:33,  6.54it/s]\n",
      "485it [01:34,  5.40it/s]\n",
      "488it [01:34,  5.81it/s]\n",
      "7it [01:36, 13.20s/it]s]\n",
      "491it [01:36,  3.21it/s]\n",
      "493it [01:36,  3.32it/s]\n",
      "495it [01:36,  4.00it/s]\n",
      "497it [01:37,  3.82it/s]\n",
      "500it [01:37,  5.06it/s]\n",
      "502it [01:38,  5.32it/s]\n",
      "504it [01:38,  5.99it/s]\n",
      "507it [01:38,  7.16it/s]\n",
      "510it [01:39,  7.02it/s]\n",
      "511it [01:39,  6.27it/s]\n",
      "514it [01:39,  7.21it/s]\n",
      "516it [01:39,  7.44it/s]\n",
      "517it [01:40,  6.77it/s]\n",
      "518it [01:40,  4.42it/s]\n",
      "520it [01:41,  4.84it/s]\n",
      "523it [01:41,  5.99it/s]\n",
      "524it [01:41,  5.10it/s]\n",
      "525it [01:42,  3.83it/s]\n",
      "528it [01:42,  4.73it/s]\n",
      "529it [01:43,  4.40it/s]\n",
      "532it [01:43,  5.32it/s]\n",
      "534it [01:44,  4.61it/s]\n",
      "537it [01:44,  4.15it/s]\n",
      "541it [01:45,  5.22it/s]\n",
      "542it [01:45,  4.62it/s]\n",
      "543it [01:46,  3.95it/s]\n",
      "544it [01:46,  3.69it/s]\n",
      "545it [01:46,  3.64it/s]\n",
      "546it [01:47,  3.59it/s]\n",
      "547it [01:47,  3.73it/s]\n",
      "548it [01:47,  3.84it/s]\n",
      "550it [01:47,  4.74it/s]\n",
      "553it [01:48,  6.36it/s]\n",
      "8it [01:49, 13.25s/it]s]\n",
      "556it [01:49,  3.32it/s]\n",
      "566it [01:50,  7.99it/s]\n",
      "569it [01:50,  7.72it/s]\n",
      "571it [01:50,  7.34it/s]\n",
      "574it [01:51,  7.50it/s]\n",
      "577it [01:51,  7.56it/s]\n",
      "578it [01:51,  6.45it/s]\n",
      "579it [01:52,  5.34it/s]\n",
      "587it [01:52,  9.38it/s]\n",
      "592it [01:53, 10.57it/s]\n",
      "597it [01:53, 11.61it/s]\n",
      "599it [01:53, 10.48it/s]\n",
      "601it [01:54,  8.95it/s]\n",
      "605it [01:54,  9.78it/s]\n",
      "608it [01:54,  9.26it/s]\n",
      "609it [01:55,  7.49it/s]\n",
      "610it [01:55,  6.42it/s]\n",
      "612it [01:55,  6.20it/s]\n",
      "614it [01:56,  6.46it/s]\n",
      "618it [01:56,  8.64it/s]\n",
      "619it [01:56,  6.66it/s]\n",
      "622it [01:56,  7.72it/s]\n",
      "623it [01:57,  6.19it/s]\n",
      "627it [01:57,  7.29it/s]\n",
      "628it [01:58,  5.98it/s]\n",
      "630it [01:58,  5.88it/s]\n",
      "631it [01:58,  4.74it/s]\n",
      "639it [01:59,  8.69it/s]\n",
      "640it [01:59,  6.72it/s]\n",
      "641it [02:00,  5.97it/s]\n",
      "643it [02:00,  6.01it/s]\n",
      "644it [02:00,  4.58it/s]\n",
      "645it [02:01,  3.85it/s]\n",
      "646it [02:01,  3.66it/s]\n",
      "648it [02:02,  4.35it/s]\n",
      "651it [02:02,  5.84it/s]\n",
      "652it [02:02,  5.05it/s]\n",
      "654it [02:02,  5.15it/s]\n",
      "655it [02:03,  4.31it/s]\n",
      "657it [02:03,  4.15it/s]\n",
      "660it [02:04,  5.50it/s]\n",
      "663it [02:04,  5.55it/s]\n",
      "665it [02:05,  5.71it/s]\n",
      "666it [02:05,  4.91it/s]\n",
      "670it [02:05,  6.80it/s]\n",
      "671it [02:06,  4.95it/s]\n",
      "677it [02:06,  7.41it/s]\n",
      "679it [02:07,  6.67it/s]\n",
      "680it [02:07,  5.90it/s]\n",
      "681it [02:07,  5.27it/s]\n",
      "9it [02:09, 15.36s/it]s]\n",
      "688it [02:09,  4.51it/s]\n",
      "690it [02:09,  4.67it/s]\n",
      "694it [02:10,  5.66it/s]\n",
      "696it [02:10,  5.19it/s]\n",
      "700it [02:11,  6.02it/s]\n",
      "702it [02:13,  2.88it/s]\n",
      "703it [02:13,  2.77it/s]\n",
      "711it [02:14,  5.99it/s]\n",
      "713it [02:14,  6.13it/s]\n",
      "718it [02:14,  8.07it/s]\n",
      "720it [02:15,  7.51it/s]\n",
      "721it [02:15,  5.90it/s]\n",
      "724it [02:15,  6.36it/s]\n",
      "725it [02:16,  5.32it/s]\n",
      "729it [02:16,  6.73it/s]\n",
      "730it [02:17,  5.93it/s]\n",
      "734it [02:17,  7.31it/s]\n",
      "738it [02:17,  8.45it/s]\n",
      "740it [02:18,  7.83it/s]\n",
      "741it [02:18,  5.92it/s]\n",
      "742it [02:19,  4.66it/s]\n",
      "743it [02:19,  4.09it/s]\n",
      "745it [02:19,  4.55it/s]\n",
      "10it [02:21, 14.45s/it]]\n",
      "749it [02:21,  2.19it/s]\n",
      "750it [02:22,  2.40it/s]\n"
     ]
    },
    {
     "name": "stderr",
     "output_type": "stream",
     "text": [
      "753it [02:22,  3.67it/s]\n",
      "755it [02:22,  4.14it/s]\n",
      "756it [02:23,  3.71it/s]\n",
      "760it [02:24,  4.06it/s]\n",
      "761it [02:24,  3.80it/s]\n",
      "764it [02:24,  4.44it/s]\n",
      "765it [02:25,  4.05it/s]\n",
      "766it [02:25,  4.07it/s]\n",
      "771it [02:25,  7.03it/s]\n",
      "773it [02:26,  6.80it/s]\n",
      "776it [02:26,  7.22it/s]\n",
      "780it [02:27,  7.00it/s]\n",
      "781it [02:27,  6.08it/s]\n",
      "785it [02:27,  7.16it/s]\n",
      "786it [02:28,  6.08it/s]\n",
      "787it [02:28,  4.66it/s]\n",
      "789it [02:29,  4.30it/s]\n",
      "790it [02:29,  3.96it/s]\n",
      "792it [02:30,  4.06it/s]\n",
      "796it [02:30,  5.90it/s]\n",
      "797it [02:30,  4.60it/s]\n",
      "802it [02:31,  7.31it/s]\n",
      "803it [02:31,  4.92it/s]\n",
      "806it [02:32,  5.13it/s]\n",
      "807it [02:32,  4.32it/s]\n",
      "811it [02:33,  6.01it/s]\n",
      "812it [02:33,  5.56it/s]\n",
      "813it [02:33,  5.06it/s]\n",
      "814it [02:34,  4.34it/s]\n",
      "817it [02:34,  5.52it/s]\n",
      "821it [02:34,  7.31it/s]\n",
      "824it [02:35,  7.64it/s]\n",
      "825it [02:35,  6.01it/s]\n",
      "826it [02:36,  4.75it/s]\n",
      "831it [02:36,  7.30it/s]\n",
      "832it [02:36,  6.24it/s]\n",
      "833it [02:37,  5.41it/s]\n",
      "11it [02:38, 15.07s/it]]\n",
      "838it [02:38,  4.11it/s]\n",
      "853it [02:39,  5.36it/s]\n",
      "12it [02:39, 13.26s/it]\n"
     ]
    }
   ],
   "source": [
    "bbox_dict = defaultdict(list)\n",
    "bbox_label_dict = defaultdict(list)\n",
    "bbox_scores_dict = defaultdict(list)\n",
    "\n",
    "for crops, bboxes, keys in tqdm(loader_crops):\n",
    "    labels = clf.predict(crops.to(device))\n",
    "\n",
    "    for label, bbox, key in zip(labels, bboxes, keys):\n",
    "        bbox_dict[key] += [bbox]\n",
    "        bbox_label_dict[key] += [label]\n",
    "        #bbox_scores_dict[key] += [score.tolist()]"
   ]
  },
  {
   "cell_type": "markdown",
   "id": "311771e7",
   "metadata": {},
   "source": [
    "# perform ocr with the experts"
   ]
  },
  {
   "cell_type": "code",
   "execution_count": 15,
   "id": "0e0af10c",
   "metadata": {},
   "outputs": [],
   "source": [
    "def get_efficient_and_filtered_crops(src, expert_idx, bbox_dict, bbox_label_dict):\n",
    "    for img, caption, key in tqdm(src):\n",
    "        bboxes = bbox_dict[key]\n",
    "        labels = bbox_label_dict[key]\n",
    "        for bbox_idx, (bbox, label) in enumerate(zip(bboxes, labels)):\n",
    "            if label == expert_idx:\n",
    "                crop = rotatedCrop(img, bbox)\n",
    "                yield crop, bbox_idx, key\n",
    "\n",
    "def collate_crops(batch, img_collate):\n",
    "    crops = []\n",
    "    bboxes = []\n",
    "    keys = []\n",
    "    for crop, bbox, key in batch:\n",
    "        crops += [crop]\n",
    "        bboxes += [bbox]\n",
    "        keys += [key]\n",
    "    return img_collate(crops), bboxes, keys"
   ]
  },
  {
   "cell_type": "code",
   "execution_count": 16,
   "id": "dec9d3c7",
   "metadata": {},
   "outputs": [
    {
     "name": "stdout",
     "output_type": "stream",
     "text": [
      "Expert trocr-large-handwritten ...\n"
     ]
    },
    {
     "name": "stderr",
     "output_type": "stream",
     "text": [
      "0it [00:00, ?it/s]\n",
      "0it [00:00, ?it/s]\n",
      "14it [00:00, 140.00it/s]\n",
      "28it [00:00, 116.66it/s]\n",
      "42it [00:00, 123.73it/s]\n",
      "55it [00:00, 122.44it/s]\n",
      "68it [00:00, 123.73it/s]\n",
      "81it [00:00, 121.83it/s]\n",
      "94it [00:00, 118.50it/s]\n",
      "106it [00:00, 110.75it/s]\n",
      "121it [00:01, 121.83it/s]\n",
      "134it [00:01, 120.71it/s]\n",
      "147it [00:01, 120.61it/s]\n",
      "161it [00:01, 125.77it/s]\n",
      "174it [00:01, 122.06it/s]\n",
      "187it [00:01, 118.59it/s]\n",
      "199it [00:01, 114.21it/s]\n",
      "215it [00:01, 125.15it/s]\n",
      "228it [00:01, 123.73it/s]\n",
      "243it [00:01, 129.31it/s]\n",
      "256it [00:02, 108.03it/s]\n",
      "268it [00:02, 101.79it/s]\n",
      "283it [00:02, 112.38it/s]\n",
      "297it [00:02, 117.72it/s]\n",
      "312it [00:02, 123.39it/s]\n",
      "327it [00:02, 130.27it/s]\n",
      "341it [00:02, 112.29it/s]\n",
      "353it [00:02, 112.54it/s]\n",
      "367it [00:03, 116.37it/s]\n",
      "379it [00:03, 112.83it/s]\n",
      "391it [00:03, 112.64it/s]\n",
      "403it [00:03, 114.65it/s]\n",
      "415it [00:03, 105.49it/s]\n",
      "427it [00:03, 108.50it/s]\n",
      "441it [00:03, 115.56it/s]\n",
      "454it [00:03, 118.59it/s]\n",
      "469it [00:03, 125.36it/s]\n",
      "482it [00:04, 123.17it/s]\n",
      "495it [00:04, 123.71it/s]\n",
      "510it [00:04, 127.58it/s]\n",
      "523it [00:04, 126.82it/s]\n",
      "538it [00:04, 132.70it/s]\n",
      "552it [00:04, 120.83it/s]\n",
      "568it [00:04, 131.06it/s]\n",
      "582it [00:04, 128.55it/s]\n",
      "596it [00:05, 116.85it/s]\n",
      "610it [00:05, 120.67it/s]\n",
      "623it [00:05, 118.11it/s]\n",
      "635it [00:05, 113.74it/s]\n",
      "647it [00:05, 113.30it/s]\n",
      "660it [00:05, 115.96it/s]\n",
      "673it [00:05, 117.57it/s]\n",
      "687it [00:05, 123.51it/s]\n",
      "700it [00:05, 124.65it/s]\n",
      "716it [00:05, 132.17it/s]\n",
      "730it [00:06, 128.51it/s]\n",
      "743it [00:06, 115.27it/s]\n",
      "756it [00:06, 117.31it/s]\n",
      "768it [00:06, 117.09it/s]\n",
      "781it [00:06, 119.35it/s]\n",
      "794it [00:06, 118.35it/s]\n",
      "806it [00:06, 117.49it/s]\n",
      "818it [00:06, 114.00it/s]\n",
      "830it [00:06, 108.66it/s]\n",
      "841it [00:07, 104.45it/s]\n",
      "853it [00:07, 118.03it/s]\n",
      "1it [00:39, 39.19s/it]\n"
     ]
    },
    {
     "name": "stdout",
     "output_type": "stream",
     "text": [
      "Expert paddleocr ...\n"
     ]
    },
    {
     "name": "stderr",
     "output_type": "stream",
     "text": [
      "0it [00:00, ?it/s]\n",
      "0it [00:00, ?it/s]\n",
      "7it [00:00, 55.55it/s]\n",
      "14it [00:00, 49.34it/s]\n",
      "27it [00:00, 71.38it/s]\n",
      "40it [00:00, 88.90it/s]\n",
      "50it [00:00, 79.24it/s]\n",
      "61it [00:00, 85.17it/s]\n",
      "70it [00:00, 65.72it/s]\n",
      "80it [00:01, 71.83it/s]\n",
      "90it [00:01, 76.82it/s]\n",
      "99it [00:01, 69.42it/s]\n",
      "107it [00:01, 70.76it/s]\n",
      "115it [00:01, 65.66it/s]\n",
      "122it [00:01, 65.92it/s]\n",
      "129it [00:01, 62.62it/s]\n",
      "136it [00:01, 62.29it/s]\n",
      "145it [00:02, 57.03it/s]\n",
      "151it [00:02, 52.57it/s]\n",
      "157it [00:02, 46.78it/s]\n",
      "164it [00:02, 50.16it/s]\n",
      "170it [00:02, 52.11it/s]\n",
      "181it [00:02, 66.10it/s]\n",
      "188it [00:02, 64.10it/s]\n",
      "195it [00:03, 52.85it/s]\n",
      "204it [00:03, 61.48it/s]\n",
      "211it [00:03, 45.15it/s]\n",
      "217it [00:03, 42.87it/s]\n",
      "222it [00:03, 43.35it/s]\n",
      "229it [00:03, 48.52it/s]\n",
      "238it [00:03, 58.25it/s]\n",
      "245it [00:04, 47.88it/s]\n",
      "253it [00:04, 54.84it/s]\n",
      "260it [00:04, 35.95it/s]\n",
      "265it [00:05, 23.60it/s]\n",
      "271it [00:05, 25.69it/s]\n",
      "281it [00:05, 36.27it/s]\n",
      "294it [00:05, 51.99it/s]\n",
      "303it [00:05, 52.00it/s]\n",
      "310it [00:06, 36.66it/s]\n",
      "320it [00:06, 46.27it/s]\n",
      "327it [00:06, 48.05it/s]\n",
      "334it [00:06, 46.02it/s]\n",
      "341it [00:06, 50.09it/s]\n",
      "347it [00:06, 47.20it/s]\n",
      "353it [00:06, 41.82it/s]\n",
      "358it [00:06, 40.89it/s]\n",
      "370it [00:07, 58.04it/s]\n",
      "381it [00:07, 69.71it/s]\n",
      "393it [00:07, 81.95it/s]\n",
      "404it [00:07, 82.79it/s]\n",
      "413it [00:07, 80.30it/s]\n",
      "422it [00:07, 78.73it/s]\n",
      "431it [00:07, 77.05it/s]\n",
      "440it [00:07, 80.00it/s]\n",
      "452it [00:07, 90.30it/s]\n",
      "462it [00:08, 48.02it/s]\n",
      "1it [00:46, 46.70s/it]s]\n",
      "470it [00:46,  1.23s/it]\n",
      "476it [00:46,  1.03it/s]\n",
      "485it [00:46,  1.49it/s]\n",
      "493it [00:47,  2.05it/s]\n",
      "506it [00:47,  3.37it/s]\n",
      "517it [00:47,  4.92it/s]\n",
      "526it [00:47,  6.56it/s]\n",
      "534it [00:47,  8.58it/s]\n",
      "542it [00:47, 11.16it/s]\n",
      "550it [00:48, 13.60it/s]\n",
      "556it [00:48, 15.97it/s]\n",
      "569it [00:48, 25.02it/s]\n",
      "582it [00:48, 35.65it/s]\n",
      "597it [00:48, 49.21it/s]\n",
      "610it [00:48, 59.28it/s]\n",
      "624it [00:48, 73.08it/s]\n",
      "637it [00:48, 83.83it/s]\n",
      "650it [00:49, 92.93it/s]\n",
      "662it [00:49, 76.39it/s]\n",
      "672it [00:49, 68.54it/s]\n",
      "681it [00:49, 64.93it/s]\n",
      "689it [00:49, 49.54it/s]\n",
      "702it [00:50, 57.35it/s]\n",
      "711it [00:50, 55.23it/s]\n",
      "725it [00:50, 70.86it/s]\n",
      "736it [00:50, 78.40it/s]\n",
      "748it [00:50, 85.19it/s]\n",
      "758it [00:50, 77.06it/s]\n",
      "767it [00:50, 60.35it/s]\n",
      "776it [00:51, 64.07it/s]\n",
      "785it [00:51, 69.65it/s]\n",
      "797it [00:51, 80.73it/s]\n",
      "806it [00:51, 71.60it/s]\n",
      "816it [00:51, 77.92it/s]\n",
      "832it [00:51, 97.75it/s]\n",
      "853it [00:51, 16.46it/s] \n",
      "2it [01:08, 34.44s/it]\n"
     ]
    },
    {
     "name": "stdout",
     "output_type": "stream",
     "text": [
      "Expert trocr-large-stage1 ...\n"
     ]
    },
    {
     "name": "stderr",
     "output_type": "stream",
     "text": [
      "0it [00:00, ?it/s]\n",
      "0it [00:00, ?it/s]\n",
      "4it [00:00, 12.95it/s]\n",
      "7it [00:00, 10.70it/s]\n",
      "12it [00:00, 15.14it/s]\n",
      "14it [00:01, 10.71it/s]\n",
      "17it [00:01, 12.77it/s]\n",
      "19it [00:01, 12.12it/s]\n",
      "26it [00:01, 20.34it/s]\n",
      "29it [00:02, 13.20it/s]\n",
      "39it [00:02, 21.51it/s]\n",
      "43it [00:02, 22.43it/s]\n",
      "46it [00:04,  7.14it/s]\n",
      "50it [00:04,  8.14it/s]\n",
      "52it [00:04,  8.34it/s]\n",
      "56it [00:04, 10.27it/s]\n",
      "58it [00:05, 10.17it/s]\n",
      "60it [00:05, 10.81it/s]\n",
      "65it [00:05, 14.01it/s]\n",
      "1it [30:07, 1807.92s/it]\n",
      "70it [30:08, 137.13s/it]\n",
      "75it [30:08, 88.88s/it] \n",
      "77it [30:08, 74.01s/it]\n",
      "79it [30:08, 59.75s/it]\n",
      "81it [30:09, 46.89s/it]\n",
      "88it [30:09, 22.55s/it]\n",
      "90it [30:09, 18.63s/it]\n",
      "92it [30:09, 14.92s/it]\n",
      "98it [30:10,  8.08s/it]\n",
      "100it [30:10,  6.65s/it]\n",
      "102it [30:11,  5.33s/it]\n",
      "108it [30:11,  2.85s/it]\n",
      "110it [30:11,  2.35s/it]\n",
      "113it [30:11,  1.70s/it]\n",
      "115it [30:12,  1.39s/it]\n",
      "121it [30:12,  1.35it/s]\n",
      "124it [30:12,  1.76it/s]\n",
      "127it [30:13,  2.15it/s]\n",
      "130it [30:13,  2.81it/s]\n",
      "134it [30:13,  3.99it/s]\n",
      "139it [30:13,  6.04it/s]\n",
      "142it [30:13,  6.57it/s]\n",
      "146it [30:14,  8.71it/s]\n",
      "150it [30:14, 10.94it/s]\n",
      "153it [30:14, 10.84it/s]\n",
      "2it [1:00:50, 1828.49s/it]\n",
      "159it [1:00:51, 127.97s/it]\n",
      "160it [1:00:51, 116.40s/it]\n",
      "164it [1:00:51, 76.75s/it] \n",
      "171it [1:00:51, 41.45s/it]\n",
      "175it [1:00:52, 30.15s/it]\n",
      "183it [1:00:52, 16.94s/it]\n",
      "188it [1:00:52, 12.19s/it]\n",
      "192it [1:00:52,  9.23s/it]\n",
      "196it [1:00:52,  6.86s/it]\n",
      "200it [1:00:52,  5.03s/it]\n",
      "203it [1:00:53,  3.94s/it]\n",
      "206it [1:00:54,  3.07s/it]\n",
      "211it [1:00:54,  1.96s/it]\n",
      "213it [1:00:54,  1.65s/it]\n",
      "215it [1:00:55,  1.35s/it]\n",
      "217it [1:00:55,  1.06s/it]\n",
      "219it [1:00:55,  1.17it/s]\n",
      "223it [1:00:55,  1.86it/s]\n",
      "225it [1:00:56,  2.30it/s]\n",
      "227it [1:00:56,  2.81it/s]\n",
      "229it [1:00:56,  3.48it/s]\n",
      "231it [1:00:56,  4.37it/s]\n",
      "235it [1:00:56,  6.67it/s]\n",
      "241it [1:00:57, 11.17it/s]\n",
      "244it [1:00:57, 10.35it/s]\n",
      "247it [1:00:57, 11.39it/s]\n",
      "254it [1:00:57, 18.31it/s]\n",
      "3it [1:31:24, 1830.94s/it]\n",
      "257it [1:31:24, 136.53s/it]\n",
      "259it [1:31:25, 112.60s/it]\n",
      "262it [1:31:26, 81.81s/it] \n",
      "264it [1:31:26, 64.96s/it]\n",
      "267it [1:31:26, 45.02s/it]\n",
      "269it [1:31:27, 34.86s/it]\n",
      "272it [1:31:27, 23.49s/it]\n",
      "275it [1:31:27, 16.03s/it]\n",
      "280it [1:31:27,  9.13s/it]\n",
      "289it [1:31:27,  4.34s/it]\n",
      "294it [1:31:27,  3.08s/it]\n",
      "298it [1:31:27,  2.31s/it]\n",
      "303it [1:31:28,  1.61s/it]\n",
      "307it [1:31:29,  1.30s/it]\n",
      "317it [1:31:30,  1.47it/s]\n",
      "321it [1:31:30,  1.82it/s]\n",
      "324it [1:31:30,  2.17it/s]\n",
      "329it [1:31:30,  2.94it/s]\n",
      "334it [1:31:31,  3.92it/s]\n",
      "4it [2:03:00, 1856.63s/it]\n",
      "336it [2:03:02, 141.14s/it]\n",
      "339it [2:03:02, 106.99s/it]\n",
      "341it [2:03:02, 86.96s/it] \n",
      "344it [2:03:02, 62.06s/it]\n",
      "349it [2:03:02, 36.90s/it]\n",
      "352it [2:03:02, 27.40s/it]\n",
      "355it [2:03:02, 20.03s/it]\n",
      "358it [2:03:03, 14.50s/it]\n",
      "361it [2:03:03, 10.39s/it]\n",
      "368it [2:03:03,  5.34s/it]\n",
      "373it [2:03:03,  3.58s/it]\n",
      "379it [2:03:03,  2.29s/it]\n",
      "383it [2:03:04,  1.73s/it]\n",
      "387it [2:03:04,  1.28s/it]\n",
      "390it [2:03:04,  1.02s/it]\n",
      "394it [2:03:04,  1.37it/s]\n",
      "398it [2:03:05,  1.91it/s]\n",
      "402it [2:03:05,  2.61it/s]\n",
      "405it [2:03:05,  3.29it/s]\n",
      "410it [2:03:05,  4.98it/s]\n",
      "413it [2:03:05,  6.00it/s]\n",
      "416it [2:03:05,  7.37it/s]\n",
      "419it [2:03:06,  6.12it/s]\n",
      "427it [2:03:06, 11.24it/s]\n",
      "5it [2:33:40, 1850.47s/it]\n",
      "430it [2:33:40, 130.00s/it]\n",
      "431it [2:33:40, 118.06s/it]\n",
      "436it [2:33:40, 71.28s/it] \n",
      "440it [2:33:41, 49.08s/it]\n",
      "444it [2:33:41, 33.97s/it]\n",
      "447it [2:33:41, 25.55s/it]\n",
      "452it [2:33:41, 16.07s/it]\n",
      "455it [2:33:42, 12.27s/it]\n",
      "461it [2:33:42,  7.28s/it]\n",
      "465it [2:33:43,  5.27s/it]\n",
      "468it [2:33:44,  4.15s/it]\n",
      "470it [2:33:44,  3.43s/it]\n",
      "475it [2:33:44,  2.10s/it]\n",
      "477it [2:33:45,  1.72s/it]\n",
      "481it [2:33:45,  1.14s/it]\n",
      "484it [2:33:45,  1.16it/s]\n",
      "486it [2:33:45,  1.43it/s]\n",
      "488it [2:33:45,  1.76it/s]\n",
      "490it [2:33:45,  2.21it/s]\n",
      "492it [2:33:46,  2.33it/s]\n",
      "6it [3:04:03, 1841.32s/it]\n",
      "493it [3:04:03, 283.34s/it]\n",
      "497it [3:04:04, 149.98s/it]\n",
      "502it [3:04:04, 81.49s/it] \n",
      "507it [3:04:04, 49.32s/it]\n",
      "510it [3:04:04, 36.87s/it]\n",
      "514it [3:04:05, 24.90s/it]\n",
      "517it [3:04:05, 18.48s/it]\n",
      "520it [3:04:05, 13.54s/it]\n",
      "523it [3:04:05,  9.79s/it]\n",
      "525it [3:04:06,  7.80s/it]\n",
      "528it [3:04:06,  5.42s/it]\n",
      "530it [3:04:06,  4.20s/it]\n",
      "532it [3:04:07,  3.20s/it]\n",
      "534it [3:04:07,  2.42s/it]\n",
      "537it [3:04:08,  1.64s/it]\n",
      "541it [3:04:08,  1.00it/s]\n",
      "543it [3:04:08,  1.25it/s]\n",
      "545it [3:04:08,  1.59it/s]\n",
      "547it [3:04:09,  2.05it/s]\n",
      "550it [3:04:09,  3.02it/s]\n",
      "554it [3:04:09,  4.74it/s]\n",
      "566it [3:04:09, 10.41it/s]\n",
      "569it [3:04:09, 11.32it/s]\n",
      "572it [3:04:09, 12.40it/s]\n",
      "575it [3:04:10, 13.73it/s]\n",
      "578it [3:04:10, 14.17it/s]\n",
      "580it [3:04:10, 14.21it/s]\n",
      "587it [3:04:10, 19.63it/s]\n",
      "592it [3:04:10, 24.43it/s]\n",
      "598it [3:04:10, 30.72it/s]\n",
      "604it [3:04:10, 36.56it/s]\n",
      "7it [3:33:06, 1809.23s/it]\n",
      "608it [3:33:06, 106.52s/it]\n",
      "612it [3:33:07, 78.88s/it] \n",
      "618it [3:33:07, 50.70s/it]\n",
      "623it [3:33:07, 35.57s/it]\n",
      "627it [3:33:07, 26.54s/it]\n",
      "631it [3:33:07, 19.49s/it]\n",
      "639it [3:33:08, 11.07s/it]\n",
      "642it [3:33:08,  9.00s/it]\n",
      "645it [3:33:08,  7.13s/it]\n",
      "648it [3:33:09,  5.49s/it]\n",
      "652it [3:33:09,  3.81s/it]\n",
      "655it [3:33:09,  2.89s/it]\n",
      "660it [3:33:09,  1.83s/it]\n",
      "663it [3:33:09,  1.40s/it]\n",
      "666it [3:33:09,  1.06s/it]\n",
      "671it [3:33:10,  1.49it/s]\n",
      "677it [3:33:10,  2.36it/s]\n",
      "680it [3:33:10,  2.93it/s]\n",
      "683it [3:33:10,  3.42it/s]\n",
      "688it [3:33:11,  5.14it/s]\n",
      "691it [3:33:11,  6.39it/s]\n",
      "694it [3:33:11,  7.59it/s]\n",
      "697it [3:33:11,  8.67it/s]\n",
      "700it [3:33:11,  9.79it/s]\n",
      "8it [4:03:08, 1806.76s/it]\n",
      "702it [4:03:08, 186.55s/it]\n",
      "703it [4:03:09, 162.49s/it]\n",
      "712it [4:03:09, 61.10s/it] \n",
      "719it [4:03:09, 36.09s/it]\n",
      "724it [4:03:09, 25.48s/it]\n",
      "728it [4:03:09, 19.07s/it]\n",
      "732it [4:03:10, 14.04s/it]\n",
      "735it [4:03:10, 10.94s/it]\n",
      "740it [4:03:10,  7.19s/it]\n",
      "743it [4:03:10,  5.59s/it]\n",
      "745it [4:03:11,  4.61s/it]\n",
      "749it [4:03:12,  3.17s/it]\n",
      "753it [4:03:12,  2.15s/it]\n",
      "755it [4:03:12,  1.76s/it]\n",
      "757it [4:03:12,  1.40s/it]\n",
      "760it [4:03:13,  1.02s/it]\n",
      "764it [4:03:13,  1.52it/s]\n",
      "766it [4:03:13,  1.86it/s]\n",
      "771it [4:03:14,  3.13it/s]\n",
      "776it [4:03:14,  4.76it/s]\n",
      "780it [4:03:14,  5.78it/s]\n",
      "785it [4:03:14,  7.60it/s]\n",
      "787it [4:03:15,  7.36it/s]\n",
      "789it [4:03:15,  6.73it/s]\n",
      "791it [4:03:15,  7.55it/s]\n",
      "9it [4:31:24, 1772.13s/it]\n",
      "792it [4:31:24, 225.71s/it]\n",
      "797it [4:31:24, 115.54s/it]\n",
      "803it [4:31:25, 62.92s/it] \n",
      "806it [4:31:25, 47.49s/it]\n",
      "808it [4:31:25, 38.53s/it]\n",
      "811it [4:31:26, 27.41s/it]\n",
      "813it [4:31:26, 21.51s/it]\n",
      "817it [4:31:26, 13.33s/it]\n",
      "824it [4:31:26,  6.84s/it]\n",
      "827it [4:31:26,  5.29s/it]\n",
      "832it [4:31:27,  3.44s/it]\n",
      "834it [4:31:27,  2.87s/it]\n",
      "838it [4:31:27,  1.96s/it]\n",
      "853it [4:31:28, 19.09s/it]\n",
      "10it [4:43:44, 1702.40s/it]\n"
     ]
    }
   ],
   "source": [
    "ocr_dict = defaultdict(list)\n",
    "for idx, key in enumerate(expert_dict.keys()):\n",
    "    print(f'Expert {key} ...')\n",
    "    expert = expert_dict[key]\n",
    "    dataset_filtered = deepcopy(dataset)\n",
    "    dataset_filtered.compose(partial(get_efficient_and_filtered_crops,\n",
    "                                     expert_idx = idx, \n",
    "                                     bbox_dict = bbox_dict,\n",
    "                                     bbox_label_dict = bbox_label_dict))\n",
    "    dataset_filtered.map_tuple(expert.get_transform(), identity, identity)\n",
    "    if key is \"paddleocr\":\n",
    "        collate_fn = partial(collate_crops, img_collate=expert.get_collate())\n",
    "    else:\n",
    "        collate_fn = collate\n",
    "    loader_expert = DataLoader(dataset_filtered, \n",
    "                           batch_size=200,\n",
    "                           collate_fn=collate_fn)\n",
    "\n",
    "    \n",
    "    for crops, bbox_ids, keys in tqdm(loader_expert):\n",
    "        texts = expert.process_batch(crops)\n",
    "        for text, bbox_idx, key in zip(texts, bbox_ids, keys):\n",
    "            ocr_dict[key] += [(bbox_idx, text)]"
   ]
  },
  {
   "cell_type": "code",
   "execution_count": 17,
   "id": "80426dfb",
   "metadata": {},
   "outputs": [],
   "source": [
    "ocr_dict_sorted = defaultdict(list)\n",
    "for key in ocr_dict.keys():\n",
    "    list_of_tuples = ocr_dict[key]\n",
    "    sorted_list_of_tuples = sorted(list_of_tuples, key=lambda x: x[0])\n",
    "    ocr_dict_sorted[key] = [t[1] for t in sorted_list_of_tuples]"
   ]
  },
  {
   "cell_type": "code",
   "execution_count": 18,
   "id": "9cbc58fb",
   "metadata": {},
   "outputs": [],
   "source": [
    "expert_name_dict = defaultdict(list)\n",
    "expert_names = list(expert_dict.keys())\n",
    "for key, val in bbox_label_dict.items():\n",
    "    expert_name_dict[key] = [expert_names[idx] for idx in val]"
   ]
  },
  {
   "cell_type": "markdown",
   "id": "f60383f9",
   "metadata": {},
   "source": [
    "# serialize result"
   ]
  },
  {
   "cell_type": "code",
   "execution_count": 19,
   "id": "db504dc5",
   "metadata": {},
   "outputs": [],
   "source": [
    "df = pd.read_parquet(parquet_fname, engine='pyarrow')"
   ]
  },
  {
   "cell_type": "code",
   "execution_count": 20,
   "id": "532b5240",
   "metadata": {},
   "outputs": [],
   "source": [
    "ocr_col = ['']*len(df)\n",
    "bbox_col = [[]]*len(df)\n",
    "exp_col = ['']*len(df)\n",
    "\n",
    "for key in bbox_dict.keys():\n",
    "    idx = int(key)\n",
    "    ocr_col[idx] = ocr_dict_sorted[key]\n",
    "    bbox_col[idx] = bbox_dict[key]\n",
    "    exp_col[idx] = expert_name_dict[key]\n",
    "df['OCR_BBOXES'] = bbox_col\n",
    "df['OCR_EXPERTS'] = exp_col\n",
    "df['OCR_TEXT'] = ocr_col\n"
   ]
  },
  {
   "cell_type": "code",
   "execution_count": 21,
   "id": "7ed29070",
   "metadata": {},
   "outputs": [],
   "source": [
    "df['OCR_BBOXES'] = df['OCR_BBOXES'].astype(str)\n",
    "df['OCR_EXPERTS'] = df['OCR_EXPERTS'].astype(str)\n",
    "df['OCR_TEXT'] = df['OCR_TEXT'].astype(str)"
   ]
  },
  {
   "cell_type": "code",
   "execution_count": 22,
   "id": "ff664382",
   "metadata": {},
   "outputs": [],
   "source": [
    "import fastparquet as pq\n",
    "import os\n",
    "pq.write(os.path.abspath(parquet_result_fname), df)"
   ]
  },
  {
   "cell_type": "markdown",
   "id": "25f26073",
   "metadata": {},
   "source": [
    "# eyeball result"
   ]
  },
  {
   "cell_type": "code",
   "execution_count": 23,
   "id": "d3d2f1b4",
   "metadata": {},
   "outputs": [],
   "source": [
    "from IPython.display import Image, display\n",
    "from IPython.core.display import HTML "
   ]
  },
  {
   "cell_type": "code",
   "execution_count": 24,
   "id": "f3a73c6b",
   "metadata": {},
   "outputs": [
    {
     "data": {
      "text/html": [
       "<img src=\"https://c8.alamy.com/comp/CP9R1H/theory-of-relativity-formula-written-on-chalkboard-CP9R1H.jpg\"/>"
      ],
      "text/plain": [
       "<IPython.core.display.Image object>"
      ]
     },
     "metadata": {},
     "output_type": "display_data"
    },
    {
     "name": "stdout",
     "output_type": "stream",
     "text": [
      "['2', 'cm c.', 'alamy', 'alamy', 'alamy', 'mige ID: CPSRII', 'alamy', 'www.alamy.com']\n",
      "['trocr-large-stage1', 'trocr-large-handwritten', 'trocr-large-stage1', 'trocr-large-stage1', 'trocr-large-stage1', 'trocr-large-stage1', 'trocr-large-stage1', 'trocr-large-stage1']\n",
      "\n"
     ]
    },
    {
     "data": {
      "text/html": [
       "<img src=\"https://lifestyleperfume.am/images/brand/1551215065-xOHWbxgh_400x400.jpg\"/>"
      ],
      "text/plain": [
       "<IPython.core.display.Image object>"
      ]
     },
     "metadata": {},
     "output_type": "display_data"
    },
    {
     "name": "stdout",
     "output_type": "stream",
     "text": [
      "['DOS E', 'OF', 'COLORS']\n",
      "['trocr-large-handwritten', 'paddleocr', 'paddleocr']\n",
      "\n"
     ]
    },
    {
     "data": {
      "text/html": [
       "<img src=\"https://i.pinimg.com/564x/ed/ca/16/edca16bd804bc50fc04002fde96c88fe.jpg\"/>"
      ],
      "text/plain": [
       "<IPython.core.display.Image object>"
      ]
     },
     "metadata": {},
     "output_type": "display_data"
    },
    {
     "name": "stdout",
     "output_type": "stream",
     "text": [
      "['GREATE', 'IN ME A', 'Clean heart.', 'O GOD, AND', 'renew A', 'RIGHT SPIRIT', 'WITHIN ME.', 'PSALM 51:10 ESV', 'incorragen.']\n",
      "['trocr-large-stage1', 'paddleocr', 'trocr-large-handwritten', 'trocr-large-stage1', 'trocr-large-stage1', 'trocr-large-stage1', 'trocr-large-stage1', 'paddleocr', 'trocr-large-stage1']\n",
      "\n"
     ]
    },
    {
     "data": {
      "text/html": [
       "<img src=\"https://www.pazzles.net/wordpress/wp-content/uploads/Fun-In-The-Sun-Stepped-Card-Angle-AContreras.jpg\"/>"
      ],
      "text/plain": [
       "<IPython.core.display.Image object>"
      ]
     },
     "metadata": {},
     "output_type": "display_data"
    },
    {
     "name": "stdout",
     "output_type": "stream",
     "text": [
      "['Jun', 'fn.', 'the sun.']\n",
      "['trocr-large-stage1', 'trocr-large-handwritten', 'trocr-large-handwritten']\n",
      "\n",
      "[272, 484, 646, 688]\n"
     ]
    }
   ],
   "source": [
    "handwritten_idcs = []\n",
    "for idx, exps in enumerate(exp_col):\n",
    "    if f'trocr-{expert_size}-handwritten' in exps:\n",
    "        handwritten_idcs += [idx]\n",
    "        display(Image(url=df.iloc[idx]['URL']))\n",
    "        print(df.iloc[idx]['OCR_TEXT'])\n",
    "        print(df.iloc[idx]['OCR_EXPERTS'])\n",
    "        print()\n",
    "print(handwritten_idcs)"
   ]
  },
  {
   "cell_type": "code",
   "execution_count": 25,
   "id": "80c3bc95",
   "metadata": {},
   "outputs": [
    {
     "data": {
      "text/html": [
       "<img src=\"https://cdn.shopify.com/s/files/1/0408/4583/6453/products/AD8E206398_AE295_Regular_Default_300x300.jpg?v=1604952315\"/>"
      ],
      "text/plain": [
       "<IPython.core.display.Image object>"
      ]
     },
     "execution_count": 25,
     "metadata": {},
     "output_type": "execute_result"
    }
   ],
   "source": [
    "Image(url=df.iloc[idx]['URL'])"
   ]
  },
  {
   "cell_type": "code",
   "execution_count": 26,
   "id": "d5810e84",
   "metadata": {},
   "outputs": [
    {
     "data": {
      "text/plain": [
       "'[]'"
      ]
     },
     "execution_count": 26,
     "metadata": {},
     "output_type": "execute_result"
    }
   ],
   "source": [
    "df.iloc[idx]['OCR_TEXT']"
   ]
  },
  {
   "cell_type": "code",
   "execution_count": 27,
   "id": "d25b3386",
   "metadata": {},
   "outputs": [
    {
     "data": {
      "text/plain": [
       "'[]'"
      ]
     },
     "execution_count": 27,
     "metadata": {},
     "output_type": "execute_result"
    }
   ],
   "source": [
    "df.iloc[idx]['OCR_EXPERTS']"
   ]
  },
  {
   "cell_type": "code",
   "execution_count": 28,
   "id": "533c5ead",
   "metadata": {},
   "outputs": [
    {
     "data": {
      "text/plain": [
       "'[]'"
      ]
     },
     "execution_count": 28,
     "metadata": {},
     "output_type": "execute_result"
    }
   ],
   "source": [
    "df.iloc[idx]['OCR_BBOXES']"
   ]
  },
  {
   "cell_type": "code",
   "execution_count": null,
   "id": "9a51c8b1",
   "metadata": {},
   "outputs": [],
   "source": []
  }
 ],
 "metadata": {
  "kernelspec": {
   "display_name": "Python 3 (ipykernel)",
   "language": "python",
   "name": "python3"
  },
  "language_info": {
   "codemirror_mode": {
    "name": "ipython",
    "version": 3
   },
   "file_extension": ".py",
   "mimetype": "text/x-python",
   "name": "python",
   "nbconvert_exporter": "python",
   "pygments_lexer": "ipython3",
   "version": "3.10.9"
  }
 },
 "nbformat": 4,
 "nbformat_minor": 5
}
